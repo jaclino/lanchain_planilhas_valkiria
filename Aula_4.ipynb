{
  "nbformat": 4,
  "nbformat_minor": 0,
  "metadata": {
    "colab": {
      "provenance": []
    },
    "kernelspec": {
      "name": "python3",
      "display_name": "Python 3"
    },
    "language_info": {
      "name": "python"
    }
  },
  "cells": [
    {
      "cell_type": "markdown",
      "source": [
        "#**🦜LangChain: automatizando análise de dados com agentes**"
      ],
      "metadata": {
        "id": "12K7xlBivn17"
      }
    },
    {
      "cell_type": "markdown",
      "source": [
        "#**Aula 1: Respondendo perguntas sobre dados em arquivos CSV**"
      ],
      "metadata": {
        "id": "WMqYaKJ_vaHI"
      }
    },
    {
      "cell_type": "markdown",
      "source": [
        "##**Gerando códigos com LLMs para analisar dados**"
      ],
      "metadata": {
        "id": "8EAuH4ppvuy_"
      }
    },
    {
      "cell_type": "code",
      "source": [
        "import pandas as pd\n",
        "\n",
        "df = pd.read_csv(\"https://raw.githubusercontent.com/vqrca/agentes_langchain/refs/heads/main/Dados/dados_entregas.csv\")\n",
        "df.head()"
      ],
      "metadata": {
        "colab": {
          "base_uri": "https://localhost:8080/",
          "height": 226
        },
        "id": "pF9fbcrgN4Mr",
        "outputId": "5233cf1a-1c1e-4f76-f4bd-00b7f2457fee"
      },
      "execution_count": null,
      "outputs": [
        {
          "output_type": "execute_result",
          "data": {
            "text/plain": [
              "       ID_pedido  anos_experiencia_agente  classificacao_agente  \\\n",
              "0  ialx566343618                        8                   4.9   \n",
              "1  akqg208421122                       10                   4.5   \n",
              "2  njpu434582536                       16                   4.4   \n",
              "3  rjto796129700                        8                   4.7   \n",
              "4  zguw716275638                       11                   4.6   \n",
              "\n",
              "   latitude_loja  longitude_loja  latitude_entrega  longitude_entrega  \\\n",
              "0      22.745049       75.892471         22.765049          75.912471   \n",
              "1      12.913041       77.683237         13.043041          77.813237   \n",
              "2      12.914264       77.678400         12.924264          77.688400   \n",
              "3      11.003669       76.976494         11.053669          77.026494   \n",
              "4      12.972793       80.249982         13.012793          80.289982   \n",
              "\n",
              "  data_pedido hora_pedido hora_retirada       clima           trafego  \\\n",
              "0  2022-03-19    11:30:00      11:45:00  Ensolarado              Alto   \n",
              "1  2022-03-25    19:45:00      19:50:00     Chuvoso  Congestionamento   \n",
              "2  2022-03-19    08:30:00      08:45:00  Tempestade             Baixo   \n",
              "3  2022-04-05    18:00:00      18:10:00  Ensolarado             Medio   \n",
              "4  2022-03-26    13:30:00      13:45:00     Nublado              Alto   \n",
              "\n",
              "       veiculo           area categoria_produto  tempo_entrega  \n",
              "0  Motocicleta         Urbano            Roupas            120  \n",
              "1      Scooter  Metropolitano       Eletronicos            165  \n",
              "2  Motocicleta         Urbano          Esportes            130  \n",
              "3  Motocicleta  Metropolitano        Cosmeticos            105  \n",
              "4      Scooter  Metropolitano        Brinquedos            150  "
            ],
            "text/html": [
              "\n",
              "  <div id=\"df-0810d458-dc18-4ed5-8ab3-275b8fac707d\" class=\"colab-df-container\">\n",
              "    <div>\n",
              "<style scoped>\n",
              "    .dataframe tbody tr th:only-of-type {\n",
              "        vertical-align: middle;\n",
              "    }\n",
              "\n",
              "    .dataframe tbody tr th {\n",
              "        vertical-align: top;\n",
              "    }\n",
              "\n",
              "    .dataframe thead th {\n",
              "        text-align: right;\n",
              "    }\n",
              "</style>\n",
              "<table border=\"1\" class=\"dataframe\">\n",
              "  <thead>\n",
              "    <tr style=\"text-align: right;\">\n",
              "      <th></th>\n",
              "      <th>ID_pedido</th>\n",
              "      <th>anos_experiencia_agente</th>\n",
              "      <th>classificacao_agente</th>\n",
              "      <th>latitude_loja</th>\n",
              "      <th>longitude_loja</th>\n",
              "      <th>latitude_entrega</th>\n",
              "      <th>longitude_entrega</th>\n",
              "      <th>data_pedido</th>\n",
              "      <th>hora_pedido</th>\n",
              "      <th>hora_retirada</th>\n",
              "      <th>clima</th>\n",
              "      <th>trafego</th>\n",
              "      <th>veiculo</th>\n",
              "      <th>area</th>\n",
              "      <th>categoria_produto</th>\n",
              "      <th>tempo_entrega</th>\n",
              "    </tr>\n",
              "  </thead>\n",
              "  <tbody>\n",
              "    <tr>\n",
              "      <th>0</th>\n",
              "      <td>ialx566343618</td>\n",
              "      <td>8</td>\n",
              "      <td>4.9</td>\n",
              "      <td>22.745049</td>\n",
              "      <td>75.892471</td>\n",
              "      <td>22.765049</td>\n",
              "      <td>75.912471</td>\n",
              "      <td>2022-03-19</td>\n",
              "      <td>11:30:00</td>\n",
              "      <td>11:45:00</td>\n",
              "      <td>Ensolarado</td>\n",
              "      <td>Alto</td>\n",
              "      <td>Motocicleta</td>\n",
              "      <td>Urbano</td>\n",
              "      <td>Roupas</td>\n",
              "      <td>120</td>\n",
              "    </tr>\n",
              "    <tr>\n",
              "      <th>1</th>\n",
              "      <td>akqg208421122</td>\n",
              "      <td>10</td>\n",
              "      <td>4.5</td>\n",
              "      <td>12.913041</td>\n",
              "      <td>77.683237</td>\n",
              "      <td>13.043041</td>\n",
              "      <td>77.813237</td>\n",
              "      <td>2022-03-25</td>\n",
              "      <td>19:45:00</td>\n",
              "      <td>19:50:00</td>\n",
              "      <td>Chuvoso</td>\n",
              "      <td>Congestionamento</td>\n",
              "      <td>Scooter</td>\n",
              "      <td>Metropolitano</td>\n",
              "      <td>Eletronicos</td>\n",
              "      <td>165</td>\n",
              "    </tr>\n",
              "    <tr>\n",
              "      <th>2</th>\n",
              "      <td>njpu434582536</td>\n",
              "      <td>16</td>\n",
              "      <td>4.4</td>\n",
              "      <td>12.914264</td>\n",
              "      <td>77.678400</td>\n",
              "      <td>12.924264</td>\n",
              "      <td>77.688400</td>\n",
              "      <td>2022-03-19</td>\n",
              "      <td>08:30:00</td>\n",
              "      <td>08:45:00</td>\n",
              "      <td>Tempestade</td>\n",
              "      <td>Baixo</td>\n",
              "      <td>Motocicleta</td>\n",
              "      <td>Urbano</td>\n",
              "      <td>Esportes</td>\n",
              "      <td>130</td>\n",
              "    </tr>\n",
              "    <tr>\n",
              "      <th>3</th>\n",
              "      <td>rjto796129700</td>\n",
              "      <td>8</td>\n",
              "      <td>4.7</td>\n",
              "      <td>11.003669</td>\n",
              "      <td>76.976494</td>\n",
              "      <td>11.053669</td>\n",
              "      <td>77.026494</td>\n",
              "      <td>2022-04-05</td>\n",
              "      <td>18:00:00</td>\n",
              "      <td>18:10:00</td>\n",
              "      <td>Ensolarado</td>\n",
              "      <td>Medio</td>\n",
              "      <td>Motocicleta</td>\n",
              "      <td>Metropolitano</td>\n",
              "      <td>Cosmeticos</td>\n",
              "      <td>105</td>\n",
              "    </tr>\n",
              "    <tr>\n",
              "      <th>4</th>\n",
              "      <td>zguw716275638</td>\n",
              "      <td>11</td>\n",
              "      <td>4.6</td>\n",
              "      <td>12.972793</td>\n",
              "      <td>80.249982</td>\n",
              "      <td>13.012793</td>\n",
              "      <td>80.289982</td>\n",
              "      <td>2022-03-26</td>\n",
              "      <td>13:30:00</td>\n",
              "      <td>13:45:00</td>\n",
              "      <td>Nublado</td>\n",
              "      <td>Alto</td>\n",
              "      <td>Scooter</td>\n",
              "      <td>Metropolitano</td>\n",
              "      <td>Brinquedos</td>\n",
              "      <td>150</td>\n",
              "    </tr>\n",
              "  </tbody>\n",
              "</table>\n",
              "</div>\n",
              "    <div class=\"colab-df-buttons\">\n",
              "\n",
              "  <div class=\"colab-df-container\">\n",
              "    <button class=\"colab-df-convert\" onclick=\"convertToInteractive('df-0810d458-dc18-4ed5-8ab3-275b8fac707d')\"\n",
              "            title=\"Convert this dataframe to an interactive table.\"\n",
              "            style=\"display:none;\">\n",
              "\n",
              "  <svg xmlns=\"http://www.w3.org/2000/svg\" height=\"24px\" viewBox=\"0 -960 960 960\">\n",
              "    <path d=\"M120-120v-720h720v720H120Zm60-500h600v-160H180v160Zm220 220h160v-160H400v160Zm0 220h160v-160H400v160ZM180-400h160v-160H180v160Zm440 0h160v-160H620v160ZM180-180h160v-160H180v160Zm440 0h160v-160H620v160Z\"/>\n",
              "  </svg>\n",
              "    </button>\n",
              "\n",
              "  <style>\n",
              "    .colab-df-container {\n",
              "      display:flex;\n",
              "      gap: 12px;\n",
              "    }\n",
              "\n",
              "    .colab-df-convert {\n",
              "      background-color: #E8F0FE;\n",
              "      border: none;\n",
              "      border-radius: 50%;\n",
              "      cursor: pointer;\n",
              "      display: none;\n",
              "      fill: #1967D2;\n",
              "      height: 32px;\n",
              "      padding: 0 0 0 0;\n",
              "      width: 32px;\n",
              "    }\n",
              "\n",
              "    .colab-df-convert:hover {\n",
              "      background-color: #E2EBFA;\n",
              "      box-shadow: 0px 1px 2px rgba(60, 64, 67, 0.3), 0px 1px 3px 1px rgba(60, 64, 67, 0.15);\n",
              "      fill: #174EA6;\n",
              "    }\n",
              "\n",
              "    .colab-df-buttons div {\n",
              "      margin-bottom: 4px;\n",
              "    }\n",
              "\n",
              "    [theme=dark] .colab-df-convert {\n",
              "      background-color: #3B4455;\n",
              "      fill: #D2E3FC;\n",
              "    }\n",
              "\n",
              "    [theme=dark] .colab-df-convert:hover {\n",
              "      background-color: #434B5C;\n",
              "      box-shadow: 0px 1px 3px 1px rgba(0, 0, 0, 0.15);\n",
              "      filter: drop-shadow(0px 1px 2px rgba(0, 0, 0, 0.3));\n",
              "      fill: #FFFFFF;\n",
              "    }\n",
              "  </style>\n",
              "\n",
              "    <script>\n",
              "      const buttonEl =\n",
              "        document.querySelector('#df-0810d458-dc18-4ed5-8ab3-275b8fac707d button.colab-df-convert');\n",
              "      buttonEl.style.display =\n",
              "        google.colab.kernel.accessAllowed ? 'block' : 'none';\n",
              "\n",
              "      async function convertToInteractive(key) {\n",
              "        const element = document.querySelector('#df-0810d458-dc18-4ed5-8ab3-275b8fac707d');\n",
              "        const dataTable =\n",
              "          await google.colab.kernel.invokeFunction('convertToInteractive',\n",
              "                                                    [key], {});\n",
              "        if (!dataTable) return;\n",
              "\n",
              "        const docLinkHtml = 'Like what you see? Visit the ' +\n",
              "          '<a target=\"_blank\" href=https://colab.research.google.com/notebooks/data_table.ipynb>data table notebook</a>'\n",
              "          + ' to learn more about interactive tables.';\n",
              "        element.innerHTML = '';\n",
              "        dataTable['output_type'] = 'display_data';\n",
              "        await google.colab.output.renderOutput(dataTable, element);\n",
              "        const docLink = document.createElement('div');\n",
              "        docLink.innerHTML = docLinkHtml;\n",
              "        element.appendChild(docLink);\n",
              "      }\n",
              "    </script>\n",
              "  </div>\n",
              "\n",
              "\n",
              "<div id=\"df-f6fdc6d0-3599-41e5-9593-1a2d79a3fbb7\">\n",
              "  <button class=\"colab-df-quickchart\" onclick=\"quickchart('df-f6fdc6d0-3599-41e5-9593-1a2d79a3fbb7')\"\n",
              "            title=\"Suggest charts\"\n",
              "            style=\"display:none;\">\n",
              "\n",
              "<svg xmlns=\"http://www.w3.org/2000/svg\" height=\"24px\"viewBox=\"0 0 24 24\"\n",
              "     width=\"24px\">\n",
              "    <g>\n",
              "        <path d=\"M19 3H5c-1.1 0-2 .9-2 2v14c0 1.1.9 2 2 2h14c1.1 0 2-.9 2-2V5c0-1.1-.9-2-2-2zM9 17H7v-7h2v7zm4 0h-2V7h2v10zm4 0h-2v-4h2v4z\"/>\n",
              "    </g>\n",
              "</svg>\n",
              "  </button>\n",
              "\n",
              "<style>\n",
              "  .colab-df-quickchart {\n",
              "      --bg-color: #E8F0FE;\n",
              "      --fill-color: #1967D2;\n",
              "      --hover-bg-color: #E2EBFA;\n",
              "      --hover-fill-color: #174EA6;\n",
              "      --disabled-fill-color: #AAA;\n",
              "      --disabled-bg-color: #DDD;\n",
              "  }\n",
              "\n",
              "  [theme=dark] .colab-df-quickchart {\n",
              "      --bg-color: #3B4455;\n",
              "      --fill-color: #D2E3FC;\n",
              "      --hover-bg-color: #434B5C;\n",
              "      --hover-fill-color: #FFFFFF;\n",
              "      --disabled-bg-color: #3B4455;\n",
              "      --disabled-fill-color: #666;\n",
              "  }\n",
              "\n",
              "  .colab-df-quickchart {\n",
              "    background-color: var(--bg-color);\n",
              "    border: none;\n",
              "    border-radius: 50%;\n",
              "    cursor: pointer;\n",
              "    display: none;\n",
              "    fill: var(--fill-color);\n",
              "    height: 32px;\n",
              "    padding: 0;\n",
              "    width: 32px;\n",
              "  }\n",
              "\n",
              "  .colab-df-quickchart:hover {\n",
              "    background-color: var(--hover-bg-color);\n",
              "    box-shadow: 0 1px 2px rgba(60, 64, 67, 0.3), 0 1px 3px 1px rgba(60, 64, 67, 0.15);\n",
              "    fill: var(--button-hover-fill-color);\n",
              "  }\n",
              "\n",
              "  .colab-df-quickchart-complete:disabled,\n",
              "  .colab-df-quickchart-complete:disabled:hover {\n",
              "    background-color: var(--disabled-bg-color);\n",
              "    fill: var(--disabled-fill-color);\n",
              "    box-shadow: none;\n",
              "  }\n",
              "\n",
              "  .colab-df-spinner {\n",
              "    border: 2px solid var(--fill-color);\n",
              "    border-color: transparent;\n",
              "    border-bottom-color: var(--fill-color);\n",
              "    animation:\n",
              "      spin 1s steps(1) infinite;\n",
              "  }\n",
              "\n",
              "  @keyframes spin {\n",
              "    0% {\n",
              "      border-color: transparent;\n",
              "      border-bottom-color: var(--fill-color);\n",
              "      border-left-color: var(--fill-color);\n",
              "    }\n",
              "    20% {\n",
              "      border-color: transparent;\n",
              "      border-left-color: var(--fill-color);\n",
              "      border-top-color: var(--fill-color);\n",
              "    }\n",
              "    30% {\n",
              "      border-color: transparent;\n",
              "      border-left-color: var(--fill-color);\n",
              "      border-top-color: var(--fill-color);\n",
              "      border-right-color: var(--fill-color);\n",
              "    }\n",
              "    40% {\n",
              "      border-color: transparent;\n",
              "      border-right-color: var(--fill-color);\n",
              "      border-top-color: var(--fill-color);\n",
              "    }\n",
              "    60% {\n",
              "      border-color: transparent;\n",
              "      border-right-color: var(--fill-color);\n",
              "    }\n",
              "    80% {\n",
              "      border-color: transparent;\n",
              "      border-right-color: var(--fill-color);\n",
              "      border-bottom-color: var(--fill-color);\n",
              "    }\n",
              "    90% {\n",
              "      border-color: transparent;\n",
              "      border-bottom-color: var(--fill-color);\n",
              "    }\n",
              "  }\n",
              "</style>\n",
              "\n",
              "  <script>\n",
              "    async function quickchart(key) {\n",
              "      const quickchartButtonEl =\n",
              "        document.querySelector('#' + key + ' button');\n",
              "      quickchartButtonEl.disabled = true;  // To prevent multiple clicks.\n",
              "      quickchartButtonEl.classList.add('colab-df-spinner');\n",
              "      try {\n",
              "        const charts = await google.colab.kernel.invokeFunction(\n",
              "            'suggestCharts', [key], {});\n",
              "      } catch (error) {\n",
              "        console.error('Error during call to suggestCharts:', error);\n",
              "      }\n",
              "      quickchartButtonEl.classList.remove('colab-df-spinner');\n",
              "      quickchartButtonEl.classList.add('colab-df-quickchart-complete');\n",
              "    }\n",
              "    (() => {\n",
              "      let quickchartButtonEl =\n",
              "        document.querySelector('#df-f6fdc6d0-3599-41e5-9593-1a2d79a3fbb7 button');\n",
              "      quickchartButtonEl.style.display =\n",
              "        google.colab.kernel.accessAllowed ? 'block' : 'none';\n",
              "    })();\n",
              "  </script>\n",
              "</div>\n",
              "\n",
              "    </div>\n",
              "  </div>\n"
            ],
            "application/vnd.google.colaboratory.intrinsic+json": {
              "type": "dataframe",
              "variable_name": "df",
              "summary": "{\n  \"name\": \"df\",\n  \"rows\": 43739,\n  \"fields\": [\n    {\n      \"column\": \"ID_pedido\",\n      \"properties\": {\n        \"dtype\": \"string\",\n        \"num_unique_values\": 43739,\n        \"samples\": [\n          \"vvgw032244127\",\n          \"fvml427733005\",\n          \"bphh205146945\"\n        ],\n        \"semantic_type\": \"\",\n        \"description\": \"\"\n      }\n    },\n    {\n      \"column\": \"anos_experiencia_agente\",\n      \"properties\": {\n        \"dtype\": \"number\",\n        \"std\": 3,\n        \"min\": 1,\n        \"max\": 20,\n        \"num_unique_values\": 13,\n        \"samples\": [\n          20,\n          14,\n          8\n        ],\n        \"semantic_type\": \"\",\n        \"description\": \"\"\n      }\n    },\n    {\n      \"column\": \"classificacao_agente\",\n      \"properties\": {\n        \"dtype\": \"number\",\n        \"std\": 0.33155950385939303,\n        \"min\": 1.0,\n        \"max\": 5.0,\n        \"num_unique_values\": 27,\n        \"samples\": [\n          4.0,\n          3.9,\n          4.1\n        ],\n        \"semantic_type\": \"\",\n        \"description\": \"\"\n      }\n    },\n    {\n      \"column\": \"latitude_loja\",\n      \"properties\": {\n        \"dtype\": \"number\",\n        \"std\": 7.764225273804336,\n        \"min\": -30.902872,\n        \"max\": 30.914057,\n        \"num_unique_values\": 521,\n        \"samples\": [\n          -15.56155,\n          26.483042,\n          23.369746\n        ],\n        \"semantic_type\": \"\",\n        \"description\": \"\"\n      }\n    },\n    {\n      \"column\": \"longitude_loja\",\n      \"properties\": {\n        \"dtype\": \"number\",\n        \"std\": 21.475004886563283,\n        \"min\": -88.366217,\n        \"max\": 88.433452,\n        \"num_unique_values\": 415,\n        \"samples\": [\n          72.794115,\n          80.26147,\n          75.810753\n        ],\n        \"semantic_type\": \"\",\n        \"description\": \"\"\n      }\n    },\n    {\n      \"column\": \"latitude_entrega\",\n      \"properties\": {\n        \"dtype\": \"number\",\n        \"std\": 7.3429503397070075,\n        \"min\": 0.01,\n        \"max\": 31.054057,\n        \"num_unique_values\": 4367,\n        \"samples\": [\n          22.582996,\n          18.56144,\n          23.397804\n        ],\n        \"semantic_type\": \"\",\n        \"description\": \"\"\n      }\n    },\n    {\n      \"column\": \"longitude_entrega\",\n      \"properties\": {\n        \"dtype\": \"number\",\n        \"std\": 21.15314817178604,\n        \"min\": 0.01,\n        \"max\": 88.563452,\n        \"num_unique_values\": 4367,\n        \"samples\": [\n          88.38231,\n          73.814855,\n          85.365146\n        ],\n        \"semantic_type\": \"\",\n        \"description\": \"\"\n      }\n    },\n    {\n      \"column\": \"data_pedido\",\n      \"properties\": {\n        \"dtype\": \"object\",\n        \"num_unique_values\": 44,\n        \"samples\": [\n          \"2022-03-03\",\n          \"2022-03-28\",\n          \"2022-03-18\"\n        ],\n        \"semantic_type\": \"\",\n        \"description\": \"\"\n      }\n    },\n    {\n      \"column\": \"hora_pedido\",\n      \"properties\": {\n        \"dtype\": \"category\",\n        \"num_unique_values\": 177,\n        \"samples\": [\n          \"22:30:00\",\n          \"20:45:00\",\n          \"17:40:00\"\n        ],\n        \"semantic_type\": \"\",\n        \"description\": \"\"\n      }\n    },\n    {\n      \"column\": \"hora_retirada\",\n      \"properties\": {\n        \"dtype\": \"object\",\n        \"num_unique_values\": 193,\n        \"samples\": [\n          \"22:25:00\",\n          \"19:35:00\",\n          \"17:55:00\"\n        ],\n        \"semantic_type\": \"\",\n        \"description\": \"\"\n      }\n    },\n    {\n      \"column\": \"clima\",\n      \"properties\": {\n        \"dtype\": \"category\",\n        \"num_unique_values\": 6,\n        \"samples\": [\n          \"Ensolarado\",\n          \"Chuvoso\",\n          \"Ventania\"\n        ],\n        \"semantic_type\": \"\",\n        \"description\": \"\"\n      }\n    },\n    {\n      \"column\": \"trafego\",\n      \"properties\": {\n        \"dtype\": \"category\",\n        \"num_unique_values\": 4,\n        \"samples\": [\n          \"Congestionamento\",\n          \"Medio\",\n          \"Alto\"\n        ],\n        \"semantic_type\": \"\",\n        \"description\": \"\"\n      }\n    },\n    {\n      \"column\": \"veiculo\",\n      \"properties\": {\n        \"dtype\": \"category\",\n        \"num_unique_values\": 4,\n        \"samples\": [\n          \"Scooter\",\n          \"Bicicleta\",\n          \"Motocicleta\"\n        ],\n        \"semantic_type\": \"\",\n        \"description\": \"\"\n      }\n    },\n    {\n      \"column\": \"area\",\n      \"properties\": {\n        \"dtype\": \"category\",\n        \"num_unique_values\": 4,\n        \"samples\": [\n          \"Metropolitano\",\n          \"Outro\",\n          \"Urbano\"\n        ],\n        \"semantic_type\": \"\",\n        \"description\": \"\"\n      }\n    },\n    {\n      \"column\": \"categoria_produto\",\n      \"properties\": {\n        \"dtype\": \"category\",\n        \"num_unique_values\": 16,\n        \"samples\": [\n          \"Roupas\",\n          \"Eletronicos\",\n          \"Lanches\"\n        ],\n        \"semantic_type\": \"\",\n        \"description\": \"\"\n      }\n    },\n    {\n      \"column\": \"tempo_entrega\",\n      \"properties\": {\n        \"dtype\": \"number\",\n        \"std\": 51,\n        \"min\": 10,\n        \"max\": 270,\n        \"num_unique_values\": 89,\n        \"samples\": [\n          240,\n          13,\n          135\n        ],\n        \"semantic_type\": \"\",\n        \"description\": \"\"\n      }\n    }\n  ]\n}"
            }
          },
          "metadata": {},
          "execution_count": 1
        }
      ]
    },
    {
      "cell_type": "code",
      "source": [
        "pip install langchain-groq -q"
      ],
      "metadata": {
        "id": "Fwkt59W6hUzH",
        "colab": {
          "base_uri": "https://localhost:8080/"
        },
        "outputId": "5b90f686-8f27-4e0b-d228-2a24ea95ee86"
      },
      "execution_count": null,
      "outputs": [
        {
          "output_type": "stream",
          "name": "stdout",
          "text": [
            "\u001b[?25l   \u001b[90m━━━━━━━━━━━━━━━━━━━━━━━━━━━━━━━━━━━━━━━━\u001b[0m \u001b[32m0.0/127.4 kB\u001b[0m \u001b[31m?\u001b[0m eta \u001b[36m-:--:--\u001b[0m\r\u001b[2K   \u001b[91m━━━━━━━━━━━━━━━━━━━━━━━━━━━━━━━━━━━━━━\u001b[0m\u001b[91m╸\u001b[0m\u001b[90m━\u001b[0m \u001b[32m122.9/127.4 kB\u001b[0m \u001b[31m4.4 MB/s\u001b[0m eta \u001b[36m0:00:01\u001b[0m\r\u001b[2K   \u001b[90m━━━━━━━━━━━━━━━━━━━━━━━━━━━━━━━━━━━━━━━━\u001b[0m \u001b[32m127.4/127.4 kB\u001b[0m \u001b[31m2.4 MB/s\u001b[0m eta \u001b[36m0:00:00\u001b[0m\n",
            "\u001b[?25h"
          ]
        }
      ]
    },
    {
      "cell_type": "code",
      "source": [
        "from google.colab import userdata\n",
        "GROQ_API = userdata.get('GROQ_API')"
      ],
      "metadata": {
        "id": "5d6BpAetiXIP"
      },
      "execution_count": null,
      "outputs": []
    },
    {
      "cell_type": "code",
      "source": [
        "from langchain_groq import ChatGroq"
      ],
      "metadata": {
        "id": "HdgzOGNojLZ7"
      },
      "execution_count": null,
      "outputs": []
    },
    {
      "cell_type": "code",
      "source": [
        "llm = ChatGroq(temperature=0, groq_api_key=GROQ_API, model_name='llama3-70b-8192')"
      ],
      "metadata": {
        "id": "W3_qGvK4jUD3"
      },
      "execution_count": null,
      "outputs": []
    },
    {
      "cell_type": "code",
      "source": [
        "ai_msg = llm.invoke(\n",
        "    \"\"\"\n",
        "    Eu tenho um dataframe chamado 'df' com as colunas 'anos_experiencia_agente' e 'tempo_entrega'.\n",
        "    Escreva o código Python com a biblioteca Pandas para calcular a correlação entre as duas colunas.\n",
        "    Retorne o Markdown para o trecho de código Python e nada mais.\"\"\"\n",
        ")\n",
        "\n",
        "ai_msg"
      ],
      "metadata": {
        "colab": {
          "base_uri": "https://localhost:8080/"
        },
        "id": "-sOEtwvijwKO",
        "outputId": "98137922-ce35-4132-9b94-a8232fa31635"
      },
      "execution_count": null,
      "outputs": [
        {
          "output_type": "execute_result",
          "data": {
            "text/plain": [
              "AIMessage(content='```\\ncorrelacao = df[\\'anos_experiencia_agente\\'].corr(df[\\'tempo_entrega\\'])\\nprint(\"A correlação entre \\'anos_experiencia_agente\\' e \\'tempo_entrega\\' é de {:.2f}\".format(correlacao))\\n```', additional_kwargs={}, response_metadata={'token_usage': {'completion_tokens': 57, 'prompt_tokens': 80, 'total_tokens': 137, 'completion_time': 0.162857143, 'prompt_time': 0.002479725, 'queue_time': 0.20070900200000003, 'total_time': 0.165336868}, 'model_name': 'llama3-70b-8192', 'system_fingerprint': 'fp_dd4ae1c591', 'finish_reason': 'stop', 'logprobs': None}, id='run-d88aa5fb-f70e-48f2-96cf-c9d14b678acc-0', usage_metadata={'input_tokens': 80, 'output_tokens': 57, 'total_tokens': 137})"
            ]
          },
          "metadata": {},
          "execution_count": 79
        }
      ]
    },
    {
      "cell_type": "code",
      "source": [
        "print(ai_msg.content)"
      ],
      "metadata": {
        "colab": {
          "base_uri": "https://localhost:8080/"
        },
        "id": "pC-B0z-ZkQpW",
        "outputId": "e11b43fa-a0bf-4ebe-dcc2-dc76346e45f1"
      },
      "execution_count": null,
      "outputs": [
        {
          "output_type": "stream",
          "name": "stdout",
          "text": [
            "```\n",
            "correlacao = df['anos_experiencia_agente'].corr(df['tempo_entrega'])\n",
            "print(\"A correlação entre 'anos_experiencia_agente' e 'tempo_entrega' é de {:.2f}\".format(correlacao))\n",
            "```\n"
          ]
        }
      ]
    },
    {
      "cell_type": "code",
      "source": [
        "correlacao = df['anos_experiencia_agente'].corr(df['tempo_entrega'])\n",
        "print(\"A correlação entre 'anos_experiencia_agente' e 'tempo_entrega' é de {:.2f}\".format(correlacao))"
      ],
      "metadata": {
        "colab": {
          "base_uri": "https://localhost:8080/"
        },
        "id": "YcRYm5lpkWo-",
        "outputId": "78cab36b-fa41-4d0d-8a13-66bac697e15f"
      },
      "execution_count": null,
      "outputs": [
        {
          "output_type": "stream",
          "name": "stdout",
          "text": [
            "A correlação entre 'anos_experiencia_agente' e 'tempo_entrega' é de -0.25\n"
          ]
        }
      ]
    },
    {
      "cell_type": "markdown",
      "source": [
        "##**Executando o código gerado com ferramentas Python**"
      ],
      "metadata": {
        "id": "ek95VEGKvxcc"
      }
    },
    {
      "cell_type": "markdown",
      "source": [
        "PythonAstREPLTool:\n",
        "\n",
        "> O `PythonAstREPLTool` é uma ferramenta experimental do LangChain projetada para executar código Python em um ambiente de REPL (Read-Eval-Print Loop). Ele permite que modelos de linguagem ou agentes executem comandos Python dinamicamente durante sua operação."
      ],
      "metadata": {
        "id": "9UBWp-yVlmZu"
      }
    },
    {
      "cell_type": "code",
      "source": [
        "pip install langchain-experimental -q"
      ],
      "metadata": {
        "id": "JjAVjZNRnyPh",
        "colab": {
          "base_uri": "https://localhost:8080/"
        },
        "outputId": "6cd31fc8-1ec7-4a8c-aea9-e555ecb28f7a"
      },
      "execution_count": null,
      "outputs": [
        {
          "output_type": "stream",
          "name": "stdout",
          "text": [
            "\u001b[?25l   \u001b[90m━━━━━━━━━━━━━━━━━━━━━━━━━━━━━━━━━━━━━━━━\u001b[0m \u001b[32m0.0/209.2 kB\u001b[0m \u001b[31m?\u001b[0m eta \u001b[36m-:--:--\u001b[0m\r\u001b[2K   \u001b[91m━━━━━━━━━━━━━━━━━━━━━━━━━━━━━━━━━━━━━━━\u001b[0m\u001b[90m╺\u001b[0m \u001b[32m204.8/209.2 kB\u001b[0m \u001b[31m7.8 MB/s\u001b[0m eta \u001b[36m0:00:01\u001b[0m\r\u001b[2K   \u001b[90m━━━━━━━━━━━━━━━━━━━━━━━━━━━━━━━━━━━━━━━━\u001b[0m \u001b[32m209.2/209.2 kB\u001b[0m \u001b[31m5.2 MB/s\u001b[0m eta \u001b[36m0:00:00\u001b[0m\n",
            "\u001b[2K   \u001b[90m━━━━━━━━━━━━━━━━━━━━━━━━━━━━━━━━━━━━━━━━\u001b[0m \u001b[32m2.5/2.5 MB\u001b[0m \u001b[31m38.9 MB/s\u001b[0m eta \u001b[36m0:00:00\u001b[0m\n",
            "\u001b[2K   \u001b[90m━━━━━━━━━━━━━━━━━━━━━━━━━━━━━━━━━━━━━━━━\u001b[0m \u001b[32m44.4/44.4 kB\u001b[0m \u001b[31m4.0 MB/s\u001b[0m eta \u001b[36m0:00:00\u001b[0m\n",
            "\u001b[2K   \u001b[90m━━━━━━━━━━━━━━━━━━━━━━━━━━━━━━━━━━━━━━━━\u001b[0m \u001b[32m50.9/50.9 kB\u001b[0m \u001b[31m4.1 MB/s\u001b[0m eta \u001b[36m0:00:00\u001b[0m\n",
            "\u001b[?25h"
          ]
        }
      ]
    },
    {
      "cell_type": "code",
      "source": [
        "from langchain_experimental.tools import PythonAstREPLTool\n",
        "\n",
        "ferramenta_python = PythonAstREPLTool(locals={\"df\": df})"
      ],
      "metadata": {
        "id": "fLWsm-m0n3q2"
      },
      "execution_count": null,
      "outputs": []
    },
    {
      "cell_type": "code",
      "source": [
        "ferramenta_python.invoke(\"df['anos_experiencia_agente'].corr(df['tempo_entrega'])\")"
      ],
      "metadata": {
        "colab": {
          "base_uri": "https://localhost:8080/"
        },
        "id": "ZnSbEtdjoOSo",
        "outputId": "d986311d-7ec8-4086-9d93-edc0ed812d0f"
      },
      "execution_count": null,
      "outputs": [
        {
          "output_type": "execute_result",
          "data": {
            "text/plain": [
              "np.float64(-0.2516410755060904)"
            ]
          },
          "metadata": {},
          "execution_count": 23
        }
      ]
    },
    {
      "cell_type": "code",
      "source": [
        "llm_com_ferramenta = llm.bind_tools([ferramenta_python], tool_choice=ferramenta_python.name)\n",
        "\n",
        "resposta = llm_com_ferramenta.invoke(\n",
        "    \"\"\"Eu tenho um dataframe 'df' e quero saber a correlação entre as colunas 'anos_experiencia_agente'\n",
        "    e 'tempo_entrega'\n",
        "    \"\"\"\n",
        ")\n",
        "resposta"
      ],
      "metadata": {
        "colab": {
          "base_uri": "https://localhost:8080/"
        },
        "id": "anRL3LyHoZuG",
        "outputId": "98dafe55-c687-41f5-ce91-b8853012c1e9"
      },
      "execution_count": null,
      "outputs": [
        {
          "output_type": "execute_result",
          "data": {
            "text/plain": [
              "AIMessage(content='', additional_kwargs={'tool_calls': [{'id': 'call_w2h5', 'function': {'arguments': '{\"query\":\"import pandas as pd; corr_coef = df[\\'anos_experiencia_agente\\'].corr(df[\\'tempo_entrega\\']); print(corr_coef)\"}', 'name': 'python_repl_ast'}, 'type': 'function'}]}, response_metadata={'token_usage': {'completion_tokens': 74, 'prompt_tokens': 887, 'total_tokens': 961, 'completion_time': 0.211428571, 'prompt_time': 0.036527446, 'queue_time': 0.207607812, 'total_time': 0.247956017}, 'model_name': 'llama3-70b-8192', 'system_fingerprint': 'fp_dd4ae1c591', 'finish_reason': 'tool_calls', 'logprobs': None}, id='run-e14d3870-216b-46f7-b51c-42fda67d33c0-0', tool_calls=[{'name': 'python_repl_ast', 'args': {'query': \"import pandas as pd; corr_coef = df['anos_experiencia_agente'].corr(df['tempo_entrega']); print(corr_coef)\"}, 'id': 'call_w2h5', 'type': 'tool_call'}], usage_metadata={'input_tokens': 887, 'output_tokens': 74, 'total_tokens': 961})"
            ]
          },
          "metadata": {},
          "execution_count": 24
        }
      ]
    },
    {
      "cell_type": "code",
      "source": [
        "resposta.tool_calls"
      ],
      "metadata": {
        "colab": {
          "base_uri": "https://localhost:8080/"
        },
        "id": "pc6Kyt8_pJdP",
        "outputId": "97998823-3a3a-4755-d59a-9b08000c3b86"
      },
      "execution_count": null,
      "outputs": [
        {
          "output_type": "execute_result",
          "data": {
            "text/plain": [
              "[{'name': 'python_repl_ast',\n",
              "  'args': {'query': \"import pandas as pd; corr_coef = df['anos_experiencia_agente'].corr(df['tempo_entrega']); print(corr_coef)\"},\n",
              "  'id': 'call_w2h5',\n",
              "  'type': 'tool_call'}]"
            ]
          },
          "metadata": {},
          "execution_count": 25
        }
      ]
    },
    {
      "cell_type": "code",
      "source": [
        "from langchain_core.output_parsers.openai_tools import JsonOutputKeyToolsParser\n",
        "\n",
        "parser = JsonOutputKeyToolsParser(key_name=ferramenta_python.name, first_tool_only=True)\n",
        "\n",
        "cadeia = llm_com_ferramenta | parser\n",
        "\n",
        "cadeia.invoke(\n",
        "    \"\"\"Eu tenho um dataframe 'df' e quero saber a correlação entre as colunas 'anos_experiencia_agente'\n",
        "    e 'tempo_entrega'\n",
        "    \"\"\")"
      ],
      "metadata": {
        "colab": {
          "base_uri": "https://localhost:8080/"
        },
        "id": "fpumFwLGpRxX",
        "outputId": "a929d9f2-36ee-4123-9b09-5b8514a1d405"
      },
      "execution_count": null,
      "outputs": [
        {
          "output_type": "execute_result",
          "data": {
            "text/plain": [
              "{'query': \"import pandas as pd; corr_coef = df['anos_experiencia_agente'].corr(df['tempo_entrega']); print(corr_coef)\"}"
            ]
          },
          "metadata": {},
          "execution_count": 26
        }
      ]
    },
    {
      "cell_type": "markdown",
      "source": [
        "##**Automatizando a geração de código**"
      ],
      "metadata": {
        "id": "JwjcQYZLv5yR"
      }
    },
    {
      "cell_type": "code",
      "source": [
        "from langchain_core.prompts import ChatPromptTemplate\n",
        "\n",
        "system = f\"\"\"Você tem acesso a um dataframe pandas `df`. \\\n",
        "Aqui está a saída de `df.head().to_markdown()`:\n",
        "\n",
        "\\`\\`\\`\n",
        "{df.head().to_markdown()}\n",
        "\\`\\`\\`\n",
        "\n",
        "Dada uma pergunta do usuário, escreva o código Python para respondê-la. \\\n",
        "Retorne SOMENTE o código Python válido e nada mais. \\\n",
        "Não presuma que você tem acesso a nenhuma biblioteca além das bibliotecas Python integradas e pandas.\"\"\"\n",
        "\n",
        "\n",
        "prompt = ChatPromptTemplate.from_messages([(\"system\", system), (\"human\", \"{question}\")])\n",
        "\n",
        "cadeia = prompt | llm_com_ferramenta | parser | ferramenta_python\n",
        "\n",
        "resposta = cadeia.invoke({\"question\": \"Qual é a correlação entre anos de experiência do agente e tempo de entrega?\"})\n",
        "print(resposta)"
      ],
      "metadata": {
        "colab": {
          "base_uri": "https://localhost:8080/"
        },
        "id": "6UrRyIH8wkMZ",
        "outputId": "8a14906a-923f-4e9d-882e-404d53253ef6"
      },
      "execution_count": null,
      "outputs": [
        {
          "output_type": "stream",
          "name": "stdout",
          "text": [
            "-0.2516410755060904\n",
            "\n"
          ]
        }
      ]
    },
    {
      "cell_type": "code",
      "source": [
        "resposta = cadeia.invoke({\"question\": \"Qual é média do tempo de entrega para cada tipo de clima?\"})\n",
        "print(resposta)"
      ],
      "metadata": {
        "colab": {
          "base_uri": "https://localhost:8080/"
        },
        "id": "w7JUeddDzLU1",
        "outputId": "bf14b012-1221-4c30-8d2f-2280dbcae5ac"
      },
      "execution_count": null,
      "outputs": [
        {
          "output_type": "stream",
          "name": "stdout",
          "text": [
            "clima\n",
            "Chuvoso       123.211825\n",
            "Ensolarado    103.664453\n",
            "Neblina       136.570833\n",
            "Nublado       138.286773\n",
            "Tempestade    123.238509\n",
            "Ventania      123.658037\n",
            "Name: tempo_entrega, dtype: float64\n"
          ]
        }
      ]
    },
    {
      "cell_type": "markdown",
      "source": [
        "#**Aula 2: Obtendo respostas explicativas**|"
      ],
      "metadata": {
        "id": "gkcFivyav-gt"
      }
    },
    {
      "cell_type": "markdown",
      "source": [
        "##**Gerando conversação e memória**"
      ],
      "metadata": {
        "id": "SintCdqAv_tt"
      }
    },
    {
      "cell_type": "code",
      "source": [
        "from langchain_core.prompts import MessagesPlaceholder\n",
        "from langchain_core.messages import ToolMessage\n",
        "from langchain_core.runnables import RunnablePassthrough\n",
        "from operator import itemgetter\n",
        "from langchain_core.output_parsers import StrOutputParser\n",
        "\n",
        "system = f\"\"\"Você tem acesso a um dataframe pandas `df`. \\\n",
        "Aqui está a saída de `df.head().to_markdown()`:\n",
        "\n",
        "\\`\\`\\`\n",
        "{df.head().to_markdown()}\n",
        "\\`\\`\\`\n",
        "\n",
        "Dada uma pergunta do usuário, escreva o código Python para respondê-la. \\\n",
        "Não presuma que você tem acesso a nenhuma biblioteca além das bibliotecas Python integradas e pandas.\\\n",
        "Responda em português à pergunta quando tiver informações suficientes para respondê-la.\"\"\"\n",
        "\n",
        "\n",
        "prompt = ChatPromptTemplate.from_messages([(\"system\", system), (\"human\", \"{question}\"),\n",
        "                                           MessagesPlaceholder(\"chat_history\", optional=True)])\n",
        "\n",
        "\n",
        "def _get_chat_history(x: dict) -> list:\n",
        "  \"\"\"Analise a saída da cadeia até este ponto em uma lista de mensagens do histórico\n",
        "  de bate-papo para inserir no prompt\"\"\"\n",
        "  ai_msg = x[\"ai_msg\"]\n",
        "  tool_call_id = x[\"ai_msg\"].additional_kwargs[\"tool_calls\"][0][\"id\"]\n",
        "  tool_msg = ToolMessage(tool_call_id=tool_call_id, content=str(x[\"tool_output\"]))\n",
        "  return [ai_msg, tool_msg]\n",
        "\n",
        "\n",
        "cadeia = (\n",
        "    RunnablePassthrough.assign(ai_msg=prompt | llm_com_ferramenta)\n",
        "    .assign(tool_output=itemgetter(\"ai_msg\") | parser | ferramenta_python)\n",
        "    .assign(chat_history=_get_chat_history)\n",
        "    .assign(response=prompt | llm | StrOutputParser())\n",
        "    .pick([\"tool_output\", \"response\"])\n",
        ")"
      ],
      "metadata": {
        "id": "jbbY2h-A9edR"
      },
      "execution_count": null,
      "outputs": []
    },
    {
      "cell_type": "markdown",
      "source": [
        "##**Testando a cadeia de conversação**"
      ],
      "metadata": {
        "id": "FZlwCFpvwIQ_"
      }
    },
    {
      "cell_type": "code",
      "source": [
        "cadeia.invoke({\"question\": \"Qual é a média do tempo de entrega para cada tipo de clima?\"})"
      ],
      "metadata": {
        "colab": {
          "base_uri": "https://localhost:8080/"
        },
        "id": "hKQy6ocnBaAx",
        "outputId": "dfab371a-7336-4b6d-f8c0-15a87269cb34"
      },
      "execution_count": null,
      "outputs": [
        {
          "output_type": "execute_result",
          "data": {
            "text/plain": [
              "{'tool_output': clima\n",
              " Chuvoso       123.211825\n",
              " Ensolarado    103.664453\n",
              " Neblina       136.570833\n",
              " Nublado       138.286773\n",
              " Tempestade    123.238509\n",
              " Ventania      123.658037\n",
              " Name: tempo_entrega, dtype: float64,\n",
              " 'response': 'A média do tempo de entrega para cada tipo de clima é:\\n\\n* Chuvoso: 123.21 minutos\\n* Ensolarado: 103.66 minutos\\n* Neblina: 136.57 minutos\\n* Nublado: 138.29 minutos\\n* Tempestade: 123.24 minutos\\n* Ventania: 123.66 minutos'}"
            ]
          },
          "metadata": {},
          "execution_count": 108
        }
      ]
    },
    {
      "cell_type": "code",
      "source": [
        "resposta = cadeia.invoke({\"question\": \"Qual é a média do tempo de entrega para cada tipo de clima?\"})\n",
        "print(resposta['response'])"
      ],
      "metadata": {
        "colab": {
          "base_uri": "https://localhost:8080/"
        },
        "id": "N-sZ2Pd4Dj16",
        "outputId": "0e693dd4-07cf-41c3-b62e-9aab2adcddbc"
      },
      "execution_count": null,
      "outputs": [
        {
          "output_type": "stream",
          "name": "stdout",
          "text": [
            "A média do tempo de entrega para cada tipo de clima é:\n",
            "\n",
            "* Chuvoso: 123.21 minutos\n",
            "* Ensolarado: 103.66 minutos\n",
            "* Neblina: 136.57 minutos\n",
            "* Nublado: 138.29 minutos\n",
            "* Tempestade: 123.24 minutos\n",
            "* Ventania: 123.66 minutos\n"
          ]
        }
      ]
    },
    {
      "cell_type": "code",
      "source": [
        "resposta_1 = cadeia.invoke({\"question\": \"Qual é a média do tempo de entrega?\"})\n",
        "print(resposta_1['response'])"
      ],
      "metadata": {
        "colab": {
          "base_uri": "https://localhost:8080/"
        },
        "id": "sq7yubzpDxUU",
        "outputId": "5bd7dd57-c19d-434b-da8a-7ca53dfac1f0"
      },
      "execution_count": null,
      "outputs": [
        {
          "output_type": "stream",
          "name": "stdout",
          "text": [
            "A média do tempo de entrega é de 134 minutos.\n"
          ]
        }
      ]
    },
    {
      "cell_type": "code",
      "source": [
        "resposta_2 = cadeia.invoke({\"question\": \"Qual é a mediana da mesma coluna?\"})\n",
        "print(resposta_2['response'])"
      ],
      "metadata": {
        "colab": {
          "base_uri": "https://localhost:8080/"
        },
        "id": "3rqTEjHbECqJ",
        "outputId": "8485d32a-ddd7-4126-9fb4-473802bc3aa1"
      },
      "execution_count": null,
      "outputs": [
        {
          "output_type": "stream",
          "name": "stdout",
          "text": [
            "A mediana da coluna `tempo_entrega` é 130.0.\n"
          ]
        }
      ]
    },
    {
      "cell_type": "code",
      "source": [
        "resposta_3 = cadeia.invoke({\"question\": \"\"\"\n",
        "                                        Qual é a correlação entre anos de experiencia do agente\n",
        "                                        e tempo de entrega?\n",
        "                                        É maior que a correlação entre classifição do agente e tempo de entrega?\n",
        "                                        \"\"\"})\n",
        "print(resposta_3['response'])"
      ],
      "metadata": {
        "colab": {
          "base_uri": "https://localhost:8080/"
        },
        "id": "eOGF1pBjEUfj",
        "outputId": "d0df89c8-2d26-4104-994e-6132a4801ba9"
      },
      "execution_count": null,
      "outputs": [
        {
          "output_type": "stream",
          "name": "stdout",
          "text": [
            "A correlação entre os anos de experiência do agente e o tempo de entrega é de aproximadamente 0.25, o que indica uma correlação positiva fraca.\n",
            "\n",
            "Agora, vamos calcular a correlação entre a classificação do agente e o tempo de entrega:\n",
            "\n",
            "```\n",
            "print(df['classificacao_agente'].corr(df['tempo_entrega']))\n",
            "```\n",
            "\n",
            "<tool-use>{\"tool_calls\":[{\"id\":\"call_2f8j\",\"type\":\"function\",\"function\":{\"name\":\"python_repl_ast\"},\"parameters\":{\"query\":\"import pandas as pd\\nimport numpy as np\\ndf = pd.DataFrame({'classificacao_agente': [4.9, 4.5, 4.4, 4.7, 4.6], 'tempo_entrega': [120, 165, 130, 105, 150]})\\nprint(df['classificacao_agente'].corr(df['tempo_entrega']))\"}}]}</tool-use>\n",
            "\n",
            "Você pode executar essa linha de código e me fornecer o resultado.\n",
            "\n",
            "(Se você executar a linha de código, por favor, forneça o resultado)\n"
          ]
        }
      ]
    },
    {
      "cell_type": "markdown",
      "source": [
        "##**Utilizando agentes para analisar dados**"
      ],
      "metadata": {
        "id": "1d9khb7iwEsz"
      }
    },
    {
      "cell_type": "code",
      "source": [
        "from langchain_experimental.agents import create_pandas_dataframe_agent\n",
        "\n",
        "agente_executor = create_pandas_dataframe_agent(\n",
        "    llm=llm,\n",
        "    df=df,\n",
        "    agent_type=\"tool-calling\",\n",
        "    verbose=True,\n",
        "    allow_dangerous_code=True\n",
        ")"
      ],
      "metadata": {
        "id": "b9kK15HLrcc4"
      },
      "execution_count": null,
      "outputs": []
    },
    {
      "cell_type": "code",
      "source": [
        "agente_executor.invoke({\"input\": \"\"\"\n",
        "                                Qual é a correlação entre anos de experiencia do agente e tempo de entrega?\n",
        "                                É maior que a correlaçao entre a classificação do agente e tempo de entrega?\n",
        "                                \"\"\"})"
      ],
      "metadata": {
        "id": "mz_AnnsUrcf8",
        "colab": {
          "base_uri": "https://localhost:8080/"
        },
        "outputId": "fd2ec697-0595-42d1-f1be-ae5a6a4e7810"
      },
      "execution_count": null,
      "outputs": [
        {
          "output_type": "stream",
          "name": "stdout",
          "text": [
            "\n",
            "\n",
            "\u001b[1m> Entering new AgentExecutor chain...\u001b[0m\n",
            "\u001b[32;1m\u001b[1;3m\n",
            "Invoking: `python_repl_ast` with `{'query': \"import pandas as pd; corr_coef_anos_experiencia = df['anos_experiencia_agente'].corr(df['tempo_entrega']); corr_coef_classificacao = df['classificacao_agente'].corr(df['tempo_entrega']); print('Correlação entre anos de experiência do agente e tempo de entrega:', corr_coef_anos_experiencia); print('Correlação entre classificação do agente e tempo de entrega:', corr_coef_classificacao);\"}`\n",
            "\n",
            "\n",
            "\u001b[0mCorrelação entre anos de experiência do agente e tempo de entrega: -0.2516410755060904\n",
            "\u001b[36;1m\u001b[1;3mCorrelação entre classificação do agente e tempo de entrega: -0.29197537876110097\n",
            "\u001b[0m\u001b[32;1m\u001b[1;3m\n",
            "Invoking: `python_repl_ast` with `{'query': \"import pandas as pd; corr_coef_anos_experiencia = df['anos_experiencia_agente'].corr(df['tempo_entrega']); print('Correlação entre anos de experiência do agente e tempo de entrega:', corr_coef_anos_experiencia)\"}`\n",
            "\n",
            "\n",
            "\u001b[0m\u001b[36;1m\u001b[1;3mCorrelação entre anos de experiência do agente e tempo de entrega: -0.2516410755060904\n",
            "\u001b[0m\u001b[32;1m\u001b[1;3mA correlação entre anos de experiência do agente e tempo de entrega é -0.2516410755060904, que é menor que a correlação entre a classificação do agente e tempo de entrega, que é -0.29197537876110097.\u001b[0m\n",
            "\n",
            "\u001b[1m> Finished chain.\u001b[0m\n"
          ]
        },
        {
          "output_type": "execute_result",
          "data": {
            "text/plain": [
              "{'input': '\\n                                Qual é a correlação entre anos de experiencia do agente e tempo de entrega?\\n                                É maior que a correlaçao entre a classificação do agente e tempo de entrega?\\n                                ',\n",
              " 'output': 'A correlação entre anos de experiência do agente e tempo de entrega é -0.2516410755060904, que é menor que a correlação entre a classificação do agente e tempo de entrega, que é -0.29197537876110097.'}"
            ]
          },
          "metadata": {},
          "execution_count": 12
        }
      ]
    },
    {
      "cell_type": "code",
      "source": [
        "agente_executor.invoke({\"input\": \"\"\"\n",
        "                                Qual é a média do tempo de entrega para cada categoria de produto?\n",
        "                                Qual é a categoria com menor média?\n",
        "                                \"\"\"})"
      ],
      "metadata": {
        "colab": {
          "base_uri": "https://localhost:8080/"
        },
        "id": "jUXm2UkwhTai",
        "outputId": "45822036-b46f-4133-a726-9c07bebbe241"
      },
      "execution_count": null,
      "outputs": [
        {
          "output_type": "stream",
          "name": "stdout",
          "text": [
            "\n",
            "\n",
            "\u001b[1m> Entering new AgentExecutor chain...\u001b[0m\n",
            "\u001b[32;1m\u001b[1;3m\n",
            "Invoking: `python_repl_ast` with `{'query': \"import pandas as pd; df.groupby('categoria_produto')['tempo_entrega'].mean()\"}`\n",
            "\n",
            "\n",
            "\u001b[0m\u001b[36;1m\u001b[1;3mcategoria_produto\n",
            "Acessorios           132.048789\n",
            "Brinquedos           129.395901\n",
            "Calçados             131.151538\n",
            "Casa                 130.955307\n",
            "Cosmeticos           132.902503\n",
            "Cozinha              132.326973\n",
            "Cuidados pessoais    132.027417\n",
            "Eletronicos          130.837136\n",
            "Esportes             132.247150\n",
            "Joias                130.753034\n",
            "Lanches              131.904332\n",
            "Lazer                131.059337\n",
            "Livros               131.021601\n",
            "Mercado               26.539576\n",
            "Pets                 131.291822\n",
            "Roupas               130.483690\n",
            "Name: tempo_entrega, dtype: float64\u001b[0m\u001b[32;1m\u001b[1;3mA categoria com menor média é Mercado, com uma média de 26.539576 minutos.\u001b[0m\n",
            "\n",
            "\u001b[1m> Finished chain.\u001b[0m\n"
          ]
        },
        {
          "output_type": "execute_result",
          "data": {
            "text/plain": [
              "{'input': '\\n                                Qual é a média do tempo de entrega para cada categoria de produto?\\n                                Qual é a categoria com menor média?\\n                                ',\n",
              " 'output': 'A categoria com menor média é Mercado, com uma média de 26.539576 minutos.'}"
            ]
          },
          "metadata": {},
          "execution_count": 13
        }
      ]
    },
    {
      "cell_type": "code",
      "source": [
        "agente_executor.invoke({\"input\": \"\"\"\n",
        "                                 Quais as dimensões do dataframe?\n",
        "                                 Quais colunas temos e quais os tipos de dados?\n",
        "                                \"\"\"})"
      ],
      "metadata": {
        "colab": {
          "base_uri": "https://localhost:8080/"
        },
        "id": "MvB5Yn4whw0h",
        "outputId": "b8efa68f-ce61-40a9-bb9f-0bf3d0c2afe2"
      },
      "execution_count": null,
      "outputs": [
        {
          "output_type": "stream",
          "name": "stdout",
          "text": [
            "\n",
            "\n",
            "\u001b[1m> Entering new AgentExecutor chain...\u001b[0m\n",
            "\u001b[32;1m\u001b[1;3m\n",
            "Invoking: `python_repl_ast` with `{'query': 'print(df.info())'}`\n",
            "\n",
            "\n",
            "\u001b[0m\u001b[36;1m\u001b[1;3m<class 'pandas.core.frame.DataFrame'>\n",
            "RangeIndex: 43739 entries, 0 to 43738\n",
            "Data columns (total 16 columns):\n",
            " #   Column                   Non-Null Count  Dtype  \n",
            "---  ------                   --------------  -----  \n",
            " 0   ID_pedido                43739 non-null  object \n",
            " 1   anos_experiencia_agente  43739 non-null  int64  \n",
            " 2   classificacao_agente     43685 non-null  float64\n",
            " 3   latitude_loja            43739 non-null  float64\n",
            " 4   longitude_loja           43739 non-null  float64\n",
            " 5   latitude_entrega         43739 non-null  float64\n",
            " 6   longitude_entrega        43739 non-null  float64\n",
            " 7   data_pedido              43739 non-null  object \n",
            " 8   hora_pedido              43739 non-null  object \n",
            " 9   hora_retirada            43739 non-null  object \n",
            " 10  clima                    43648 non-null  object \n",
            " 11  trafego                  43648 non-null  object \n",
            " 12  veiculo                  43739 non-null  object \n",
            " 13  area                     43739 non-null  object \n",
            " 14  categoria_produto        43739 non-null  object \n",
            " 15  tempo_entrega            43739 non-null  int64  \n",
            "dtypes: float64(5), int64(2), object(9)\n",
            "memory usage: 5.3+ MB\n",
            "None\n",
            "\u001b[0m\u001b[32;1m\u001b[1;3mThe dataframe has 16 columns and 43739 rows. The columns are:\n",
            "\n",
            "1. ID_pedido (object)\n",
            "2. anos_experiencia_agente (int64)\n",
            "3. classificacao_agente (float64)\n",
            "4. latitude_loja (float64)\n",
            "5. longitude_loja (float64)\n",
            "6. latitude_entrega (float64)\n",
            "7. longitude_entrega (float64)\n",
            "8. data_pedido (object)\n",
            "9. hora_pedido (object)\n",
            "10. hora_retirada (object)\n",
            "11. clima (object)\n",
            "12. trafego (object)\n",
            "13. veiculo (object)\n",
            "14. area (object)\n",
            "15. categoria_produto (object)\n",
            "16. tempo_entrega (int64)\n",
            "\n",
            "The dataframe has a total of 5 float64 columns, 2 int64 columns, and 9 object columns.\u001b[0m\n",
            "\n",
            "\u001b[1m> Finished chain.\u001b[0m\n"
          ]
        },
        {
          "output_type": "execute_result",
          "data": {
            "text/plain": [
              "{'input': '\\n                                 Quais as dimensões do dataframe?\\n                                 Quais colunas temos e quais os tipos de dados?\\n                                ',\n",
              " 'output': 'The dataframe has 16 columns and 43739 rows. The columns are:\\n\\n1. ID_pedido (object)\\n2. anos_experiencia_agente (int64)\\n3. classificacao_agente (float64)\\n4. latitude_loja (float64)\\n5. longitude_loja (float64)\\n6. latitude_entrega (float64)\\n7. longitude_entrega (float64)\\n8. data_pedido (object)\\n9. hora_pedido (object)\\n10. hora_retirada (object)\\n11. clima (object)\\n12. trafego (object)\\n13. veiculo (object)\\n14. area (object)\\n15. categoria_produto (object)\\n16. tempo_entrega (int64)\\n\\nThe dataframe has a total of 5 float64 columns, 2 int64 columns, and 9 object columns.'}"
            ]
          },
          "metadata": {},
          "execution_count": 14
        }
      ]
    },
    {
      "cell_type": "markdown",
      "source": [
        "#**Aula 3: Construindo ferramentas do zero**"
      ],
      "metadata": {
        "id": "qPRw87SLwQg7"
      }
    },
    {
      "cell_type": "markdown",
      "source": [
        "##**Ferramenta exploradora**"
      ],
      "metadata": {
        "id": "tkf7kxAkwRwW"
      }
    },
    {
      "cell_type": "code",
      "source": [
        "from langchain.tools import tool\n",
        "from langchain.prompts import PromptTemplate"
      ],
      "metadata": {
        "id": "Cj_ZzBN7lhs7"
      },
      "execution_count": null,
      "outputs": []
    },
    {
      "cell_type": "code",
      "source": [
        "@tool\n",
        "\n",
        "def informacoes_dataframe(pergunta: str) -> str:\n",
        "  \"\"\"Utilize esta ferramenta sempre que o usuário solicitar informações gerais sobre o DataFrame,\n",
        "  incluindo número de colunas e linhas, nomes das colunas e seus tipos de dados, contagem de dados nulos\n",
        "  e duplicados para dar um panorama geral sobre o arquivo.\"\"\"\n",
        "\n",
        "  shape = df.shape\n",
        "  columns = df.dtypes\n",
        "  nulos = df.isnull().sum()\n",
        "  nans_str = df.apply(lambda col: col[~col.isna()].astype(str).str.strip().str.lower().eq('nan').sum())\n",
        "  duplicados = df.duplicated().sum()\n",
        "\n",
        "  template_resposta = PromptTemplate(\n",
        "      template = \"\"\"\n",
        "        Você é um analista de dados encarregado de apresentar um resumo informativo sobre um DataFrame\n",
        "        a partir de uma {pergunta} feita pelo usuário.\n",
        "\n",
        "        A seguir, você encontrará as informações gerais da base de dados:\n",
        "\n",
        "        ================= INFORMAÇÕES DO DATAFRAME =================\n",
        "\n",
        "        Dimensões: {shape}\n",
        "\n",
        "        Colunas e tipos de dados:\n",
        "        {columns}\n",
        "\n",
        "        Valores nulos por coluna:\n",
        "        {nulos}\n",
        "\n",
        "        Strings 'nan' (qualquer capitalização) por coluna:\n",
        "        {nans_str}\n",
        "\n",
        "        Linhas duplicadas: {duplicados}\n",
        "\n",
        "        ============================================================\n",
        "\n",
        "        Com base nessas informações, escreva um resumo claro e organizado contendo:\n",
        "        1. Um título: ## Relatório de informações gerais sobre o dataset,\n",
        "        2. A dimensão total do DataFrame;\n",
        "        3. A descrição de cada coluna (incluindo nome, tipo de dado e o que aquela coluna é),\n",
        "        4. As colunas que contêm dados nulos, com a respectiva quantidade;\n",
        "        5. As colunas que contêm strings 'nan', com a respectiva quantidade;\n",
        "        6. E a existência (ou não) de dados duplicados;\n",
        "        7. Escreva um parágrafo sobre análises que podem ser feitas com\n",
        "        esses dados;\n",
        "        8. Escreva um parágrafo sobre tratamentos que podem ser feitos nos dados.\"\"\",\n",
        "      input_variables=[\"pergunta\", \"shape\", \"columns\", \"nulos\", \"nans_str\", \"duplicados\"]\n",
        "  )\n",
        "\n",
        "  cadeia = template_resposta | llm | StrOutputParser()\n",
        "\n",
        "  resposta = cadeia.invoke({\n",
        "      \"pergunta\": pergunta,\n",
        "      \"shape\": shape,\n",
        "      \"columns\": columns,\n",
        "      \"nulos\": nulos,\n",
        "      \"nans_str\": nans_str,\n",
        "      \"duplicados\": duplicados\n",
        "  })\n",
        "\n",
        "\n",
        "  return resposta"
      ],
      "metadata": {
        "id": "O8Voi3iKlYH9"
      },
      "execution_count": null,
      "outputs": []
    },
    {
      "cell_type": "markdown",
      "source": [
        "##**Testando a ferramenta exploradora**"
      ],
      "metadata": {
        "id": "wUX5Y3A-wVtm"
      }
    },
    {
      "cell_type": "code",
      "source": [
        "relatorio_informacoes = informacoes_dataframe.invoke(\"Quais as informações gerais sobre o dataframe?\")\n",
        "print(relatorio_informacoes)"
      ],
      "metadata": {
        "colab": {
          "base_uri": "https://localhost:8080/"
        },
        "id": "G48ZG70OrPKn",
        "outputId": "0d76158f-0a6e-4c16-9a3b-4fb3f3f36e65"
      },
      "execution_count": null,
      "outputs": [
        {
          "output_type": "stream",
          "name": "stdout",
          "text": [
            "## Relatório de informações gerais sobre o dataset\n",
            "\n",
            "**Dimensão do DataFrame:** O DataFrame tem uma dimensão de 43.739 linhas e 16 colunas.\n",
            "\n",
            "**Descrição das colunas:**\n",
            "\n",
            "* **ID_pedido**: uma coluna de tipo objeto que representa o identificador único de cada pedido.\n",
            "* **anos_experiencia_agente**: uma coluna de tipo inteiro que representa a experiência do agente em anos.\n",
            "* **classificacao_agente**: uma coluna de tipo float que representa a classificação do agente.\n",
            "* **latitude_loja** e **longitude_loja**: colunas de tipo float que representam a localização geográfica da loja.\n",
            "* **latitude_entrega** e **longitude_entrega**: colunas de tipo float que representam a localização geográfica da entrega.\n",
            "* **data_pedido**, **hora_pedido**, e **hora_retirada**: colunas de tipo objeto que representam a data e hora do pedido, hora do pedido e hora de retirada, respectivamente.\n",
            "* **clima**, **trafego**, e **veiculo**: colunas de tipo objeto que representam as condições climáticas, tráfego e veículo utilizados, respectivamente.\n",
            "* **area**: uma coluna de tipo objeto que representa a área de entrega.\n",
            "* **categoria_produto**: uma coluna de tipo objeto que representa a categoria do produto.\n",
            "* **tempo_entrega**: uma coluna de tipo inteiro que representa o tempo de entrega.\n",
            "\n",
            "**Colunas com dados nulos:**\n",
            "\n",
            "* **classificacao_agente**: 54 valores nulos.\n",
            "* **clima**: 91 valores nulos.\n",
            "* **trafego**: 91 valores nulos.\n",
            "\n",
            "**Colunas com strings 'nan':**\n",
            "\n",
            "* **hora_pedido**: 91 strings 'nan'.\n",
            "\n",
            "**Existência de dados duplicados:** Não há linhas duplicadas no DataFrame.\n",
            "\n",
            "**Análises possíveis:** Com esses dados, é possível realizar análises sobre a relação entre a experiência do agente e a classificação, a influência do clima e tráfego no tempo de entrega, a distribuição geográfica dos pedidos e entregas, e a relação entre a categoria do produto e o tempo de entrega.\n",
            "\n",
            "**Tratamentos possíveis:** É necessário tratar os valores nulos e strings 'nan' nas colunas **classificacao_agente**, **clima**, **trafego**, e **hora_pedido**. Além disso, pode ser necessário realizar transformações nos dados, como converter as colunas de data e hora em formatos mais adequados para análise.\n"
          ]
        }
      ]
    },
    {
      "cell_type": "code",
      "source": [
        "from IPython.display import Markdown, display"
      ],
      "metadata": {
        "id": "YgHG1Ycrrv6B"
      },
      "execution_count": null,
      "outputs": []
    },
    {
      "cell_type": "code",
      "source": [
        "display(Markdown(relatorio_informacoes))"
      ],
      "metadata": {
        "colab": {
          "base_uri": "https://localhost:8080/",
          "height": 526
        },
        "id": "2D0Qtmnzrv67",
        "outputId": "f0b6e30e-d1a7-49bd-b059-5827b938d03f"
      },
      "execution_count": null,
      "outputs": [
        {
          "output_type": "display_data",
          "data": {
            "text/plain": [
              "<IPython.core.display.Markdown object>"
            ],
            "text/markdown": "## Relatório de informações gerais sobre o dataset\n\n**Dimensão do DataFrame:** O DataFrame tem uma dimensão de 43.739 linhas e 16 colunas.\n\n**Descrição das colunas:**\n\n* **ID_pedido**: uma coluna de tipo objeto que representa o identificador único de cada pedido.\n* **anos_experiencia_agente**: uma coluna de tipo inteiro que representa a experiência do agente em anos.\n* **classificacao_agente**: uma coluna de tipo float que representa a classificação do agente.\n* **latitude_loja** e **longitude_loja**: colunas de tipo float que representam a localização geográfica da loja.\n* **latitude_entrega** e **longitude_entrega**: colunas de tipo float que representam a localização geográfica da entrega.\n* **data_pedido**, **hora_pedido**, e **hora_retirada**: colunas de tipo objeto que representam a data e hora do pedido, hora do pedido e hora de retirada, respectivamente.\n* **clima**, **trafego**, e **veiculo**: colunas de tipo objeto que representam as condições climáticas, tráfego e veículo utilizados, respectivamente.\n* **area**: uma coluna de tipo objeto que representa a área de entrega.\n* **categoria_produto**: uma coluna de tipo objeto que representa a categoria do produto.\n* **tempo_entrega**: uma coluna de tipo inteiro que representa o tempo de entrega.\n\n**Colunas com dados nulos:**\n\n* **classificacao_agente**: 54 valores nulos.\n* **clima**: 91 valores nulos.\n* **trafego**: 91 valores nulos.\n\n**Colunas com strings 'nan':**\n\n* **hora_pedido**: 91 strings 'nan'.\n\n**Existência de dados duplicados:** Não há linhas duplicadas no DataFrame.\n\n**Análises possíveis:** Com esses dados, é possível realizar análises sobre a relação entre a experiência do agente e a classificação, a influência do clima e tráfego no tempo de entrega, a distribuição geográfica dos pedidos e entregas, e a relação entre a categoria do produto e o tempo de entrega.\n\n**Tratamentos possíveis:** É necessário tratar os valores nulos e strings 'nan' nas colunas **classificacao_agente**, **clima**, **trafego**, e **hora_pedido**. Além disso, pode ser necessário realizar transformações nos dados, como converter as colunas de data e hora em formatos mais adequados para análise."
          },
          "metadata": {}
        }
      ]
    },
    {
      "cell_type": "markdown",
      "source": [
        "##**Ferramenta estatística**\n"
      ],
      "metadata": {
        "id": "uRfjqIUBwZBB"
      }
    },
    {
      "cell_type": "code",
      "source": [
        "@tool\n",
        "\n",
        "def resumo_estatistico(pergunta: str) -> str:\n",
        "  \"\"\"Utilize esta ferramenta sempre que o usuário solicitar um resumo estatístico completo\n",
        "  e descritivo da base de dados, incluindo várias estatísticas (média, desvio padrão, mínimo, máximo etc.).\"\"\"\n",
        "\n",
        "  estatisticas_descritivas = df.describe(include='number').transpose().to_string()\n",
        "\n",
        "  template_resposta = PromptTemplate(\n",
        "      template=\"\"\"\n",
        "      Você é um analista de dados encarregado de interpretar resultados estatísticos de uma base de dados\n",
        "      a partir de uma {pergunta} feita pelo usuário.\n",
        "\n",
        "        A seguir, você encontrará as estatísticas descritivas da base de dados:\n",
        "\n",
        "        ================= ESTATÍSTICAS DESCRITIVAS =================\n",
        "\n",
        "        {resumo}\n",
        "\n",
        "        ============================================================\n",
        "\n",
        "        Com base nesses dados, elabore um resumo explicativo com linguagem clara, acessível e fluida, destacando\n",
        "        os principais pontos dos resultados. Inclua:\n",
        "\n",
        "        1. Um título: ## Relatório de estatísticas descritivas;\n",
        "        2. Uma visão geral das estatísticas das colunas numéricas;\n",
        "        3. Um parágrafo sobre cada uma das colunas, comentando informações sobre seus valores;\n",
        "        4. Identificação de possíveis outliers com base nos valores mínimo e máximo;\n",
        "        5. Recomendações de próximos passos na análise com base nos padrões identificados.\n",
        "\"\"\", input_variables=[\"pergunta\", \"resumo\"]\n",
        "  )\n",
        "\n",
        "  cadeia = template_resposta | llm | StrOutputParser()\n",
        "\n",
        "  resposta = cadeia.invoke({\"pergunta\": pergunta, \"resumo\": estatisticas_descritivas})\n",
        "\n",
        "  return resposta"
      ],
      "metadata": {
        "id": "sQwAgrZxtYKI"
      },
      "execution_count": null,
      "outputs": []
    },
    {
      "cell_type": "code",
      "source": [
        "relatorio_estatistico = resumo_estatistico.invoke(\"Quais as estatísticas descritivas dos dados?\")\n",
        "display(Markdown(relatorio_estatistico))"
      ],
      "metadata": {
        "colab": {
          "base_uri": "https://localhost:8080/",
          "height": 653
        },
        "id": "p9uF45vWvinG",
        "outputId": "e2d49f10-6399-4216-84a7-6af34b600de5"
      },
      "execution_count": null,
      "outputs": [
        {
          "output_type": "display_data",
          "data": {
            "text/plain": [
              "<IPython.core.display.Markdown object>"
            ],
            "text/markdown": "## Relatório de estatísticas descritivas\n\nEste relatório apresenta as estatísticas descritivas de uma base de dados composta por 7 colunas numéricas, que descrevem características de agentes e lojas. As estatísticas descritivas fornecem uma visão geral das distribuições das variáveis e permitem identificar padrões e outliers.\n\n**Visão geral das estatísticas**\n\nAs estatísticas descritivas revelam que as variáveis apresentam distribuições diferentes, com médias e desvios padrão variando significativamente entre as colunas. Em geral, as variáveis apresentam uma distribuição assimétrica, com valores mínimos e máximos que se destacam em relação à média.\n\n**Análise por coluna**\n\n* **Anos de experiência do agente**: A média de anos de experiência dos agentes é de 12,1 anos, com um desvio padrão de 3,1 anos. A distribuição é assimétrica, com valores mínimos de 1 ano e máximos de 20 anos. Isso sugere que há agentes com pouca experiência e outros com muita experiência.\n* **Classificação do agente**: A média de classificação dos agentes é de 4,63, com um desvio padrão de 0,33. A distribuição é relativamente simétrica, com valores mínimos de 1 e máximos de 5. Isso sugere que a maioria dos agentes tem uma classificação próxima à média.\n* **Latitude da loja**: A média de latitude das lojas é de 17,21°, com um desvio padrão de 7,76°. A distribuição é assimétrica, com valores mínimos de -30,90° e máximos de 30,91°. Isso sugere que as lojas estão localizadas em diferentes regiões geográficas.\n* **Longitude da loja**: A média de longitude das lojas é de 70,66°, com um desvio padrão de 21,48°. A distribuição é assimétrica, com valores mínimos de -88,37° e máximos de 88,43°. Isso sugere que as lojas estão localizadas em diferentes regiões geográficas.\n* **Latitude da entrega**: A média de latitude da entrega é de 17,46°, com um desvio padrão de 7,34°. A distribuição é assimétrica, com valores mínimos de 0,01° e máximos de 31,05°. Isso sugere que as entregas são feitas em diferentes regiões geográficas.\n* **Longitude da entrega**: A média de longitude da entrega é de 70,82°, com um desvio padrão de 21,15°. A distribuição é assimétrica, com valores mínimos de 0,01° e máximos de 88,56°. Isso sugere que as entregas são feitas em diferentes regiões geográficas.\n* **Tempo de entrega**: A média de tempo de entrega é de 124,91 minutos, com um desvio padrão de 51,92 minutos. A distribuição é assimétrica, com valores mínimos de 10 minutos e máximos de 270 minutos. Isso sugere que o tempo de entrega varia significativamente entre as entregas.\n\n**Identificação de outliers**\n\nCom base nos valores mínimo e máximo, é possível identificar outliers em algumas colunas. Por exemplo, na coluna \"Anos de experiência do agente\", o valor mínimo de 1 ano pode ser considerado um outlier, pois é significativamente menor que a média. Da mesma forma, na coluna \"Tempo de entrega\", o valor máximo de 270 minutos pode ser considerado um outlier, pois é significativamente maior que a média.\n\n**Recomendações de próximos passos**\n\nCom base nos padrões identificados, é recomendável:\n\n* Investigar as razões pelas quais os agentes com pouca experiência têm uma classificação mais baixa.\n* Analisar a relação entre a latitude e longitude das lojas e a latitude e longitude da entrega, para entender como essas variáveis se relacionam.\n* Examinar as entregas com tempo de entrega muito longo ou muito curto, para entender as razões pelas quais essas entregas são tão diferentes das demais.\n\nEssas análises podem fornecer insights valiosos sobre as características dos agentes e lojas, e ajudar a identificar oportunidades de melhoria na entrega de produtos."
          },
          "metadata": {}
        }
      ]
    },
    {
      "cell_type": "markdown",
      "source": [
        "##**Ferramenta visual**"
      ],
      "metadata": {
        "id": "OcPaRRkfweWh"
      }
    },
    {
      "cell_type": "code",
      "source": [
        "import matplotlib.pyplot as plt\n",
        "import seaborn as sns"
      ],
      "metadata": {
        "id": "9kOD6Q0eFSRn"
      },
      "execution_count": null,
      "outputs": []
    },
    {
      "cell_type": "code",
      "source": [
        "@tool\n",
        "\n",
        "def gerar_grafico(pergunta: str) -> str:\n",
        "  \"\"\"Utilize esta ferramenta sempre que o usuário solicitar um gráfico a partir de um DataFrame pandas (`df`)\n",
        "  com base em uma instrução do usuário.  A instrução pode conter pedidos como: 'Crie um gráfico da média de\n",
        "  tempo de entrega por clima', 'Plote a distribuição do tempo de entrega'  ou 'Plote a relação entre\n",
        "  a classificação dos agentes e o tempo de entrega'. Palavras-chave comuns que indicam o uso desta\n",
        "  ferramenta incluem:  'crie um gráfico', 'plote', 'visualize', 'faça um gráfico de', 'mostre a distribuição',\n",
        "  'represente graficamente', entre outros.\"\"\"\n",
        "\n",
        "  colunas_info = \"\\n\".join([f\"- {col} ({dtype})\" for col, dtype in df.dtypes.items()])\n",
        "  amostra_dados = df.head(3).to_dict(orient='records')\n",
        "\n",
        "  template_resposta = PromptTemplate(\n",
        "      template = \"\"\"\n",
        "            Você é um especialista em visualização de dados. Sua tarefa é gerar **apenas o código Python**\n",
        "            para plotar um gráfico com base na solicitação do usuário.\n",
        "\n",
        "            ## Solicitação do usuário:\n",
        "            \"{pergunta}\"\n",
        "\n",
        "            ## Metadados do DataFrame:\n",
        "            {colunas}\n",
        "\n",
        "            ## Amostra dos dados (3 primeiras linhas):\n",
        "            {amostra}\n",
        "\n",
        "            ## Instruções obrigatórias:\n",
        "            1. Use as bibliotecas `matplotlib.pyplot` (como `plt`) e `seaborn` (como `sns`);\n",
        "            2. Defina o tema com `sns.set_theme()`;\n",
        "            3. Certifique-se de que todas as colunas mencionadas na solicitação existem no DataFrame chamado `df`;\n",
        "            4. Escolha o tipo de gráfico adequado conforme a análise solicitada:\n",
        "            - **Distribuição de variáveis numéricas**: `histplot`, `kdeplot`, `boxplot` ou `violinplot`\n",
        "            - **Distribuição de variáveis categóricas**: `countplot`\n",
        "            - **Comparação entre categorias**: `barplot`\n",
        "            - **Relação entre variáveis**: `scatterplot`\n",
        "            - **Séries temporais**: `lineplot`, com o eixo X formatado como datas\n",
        "            5. Configure o tamanho do gráfico com `figsize=(8, 4)`;\n",
        "            6. Adicione título e rótulos (`labels`) apropriados aos eixos;\n",
        "            7. Posicione o título à esquerda com `loc='left'`, deixe o `pad=20` e use `fontsize=14`;\n",
        "            8. Mantenha os ticks eixo X sem rotação com `plt.xticks(rotation=0)`;\n",
        "            9. Remova as bordas superior e direita do gráfico com `sns.despine()`;\n",
        "            10. Finalize o código com `plt.show()`.\n",
        "\n",
        "            Retorne APENAS o código Python, sem nenhum texto adicional ou explicação.\n",
        "\n",
        "            Código Python:\"\"\", input_variables=[\"pergunta\", \"colunas\", \"amostra\"]\n",
        "  )\n",
        "\n",
        "  cadeia = template_resposta | llm | StrOutputParser()\n",
        "\n",
        "  codigo_bruto = cadeia.invoke({\n",
        "      \"pergunta\": pergunta,\n",
        "      \"colunas\": colunas_info,\n",
        "      \"amostra\": amostra_dados\n",
        "  })\n",
        "\n",
        "  codigo_limpo = codigo_bruto.replace(\"```python\", \"\").replace(\"```\", \"\").strip()\n",
        "\n",
        "  exec_globals = {\"df\": df, \"plt\": plt, \"sns\": sns}\n",
        "  exec_locals = {}\n",
        "  exec(codigo_limpo, exec_globals, exec_locals)\n",
        "\n",
        "  fig = plt.gcf()\n",
        "\n",
        "  return fig"
      ],
      "metadata": {
        "id": "40GSJR1JAG48"
      },
      "execution_count": null,
      "outputs": []
    },
    {
      "cell_type": "markdown",
      "source": [
        "##**Testando a ferramenta visual**"
      ],
      "metadata": {
        "id": "O4QQjHXDwgqg"
      }
    },
    {
      "cell_type": "code",
      "source": [
        "resposta_grafico = gerar_grafico.invoke(\"Crie um gráfico da média do tempo de entrega por clima.\")\n",
        "print(resposta_grafico)"
      ],
      "metadata": {
        "colab": {
          "base_uri": "https://localhost:8080/",
          "height": 476
        },
        "id": "0y366A_IGRIU",
        "outputId": "cae801e0-96c6-472b-f823-3479339bcfd0"
      },
      "execution_count": null,
      "outputs": [
        {
          "output_type": "display_data",
          "data": {
            "text/plain": [
              "<Figure size 800x400 with 1 Axes>"
            ],
            "image/png": "[encoded data removed]"
          },
          "metadata": {}
        },
        {
          "output_type": "stream",
          "name": "stdout",
          "text": [
            "Figure(640x480)\n"
          ]
        },
        {
          "output_type": "display_data",
          "data": {
            "text/plain": [
              "<Figure size 640x480 with 0 Axes>"
            ]
          },
          "metadata": {}
        }
      ]
    },
    {
      "cell_type": "code",
      "source": [
        "resposta_grafico_1 = gerar_grafico.invoke(\"\"\"Crie um gráfico da média do tempo de entrega por clima.\n",
        "                                             Ordene do maior para o menor valor.\"\"\")\n",
        "print(resposta_grafico_1)"
      ],
      "metadata": {
        "colab": {
          "base_uri": "https://localhost:8080/",
          "height": 476
        },
        "id": "Ky8arg8wG0Kj",
        "outputId": "a03429ef-9d0a-4461-ab3d-4dc854cc971d"
      },
      "execution_count": null,
      "outputs": [
        {
          "output_type": "display_data",
          "data": {
            "text/plain": [
              "<Figure size 800x400 with 1 Axes>"
            ],
            "image/png": "[encoded data removed]"
          },
          "metadata": {}
        },
        {
          "output_type": "stream",
          "name": "stdout",
          "text": [
            "Figure(640x480)\n"
          ]
        },
        {
          "output_type": "display_data",
          "data": {
            "text/plain": [
              "<Figure size 640x480 with 0 Axes>"
            ]
          },
          "metadata": {}
        }
      ]
    },
    {
      "cell_type": "code",
      "source": [
        "resposta_grafico_2 = gerar_grafico.invoke(\"\"\"Plote um boxplot do tempo de entrega.\"\"\")\n",
        "print(resposta_grafico_2)"
      ],
      "metadata": {
        "colab": {
          "base_uri": "https://localhost:8080/",
          "height": 475
        },
        "id": "HMm_GpLOHG0h",
        "outputId": "9b946849-f57e-4542-a4ee-aa8ef868705b"
      },
      "execution_count": null,
      "outputs": [
        {
          "output_type": "display_data",
          "data": {
            "text/plain": [
              "<Figure size 800x400 with 1 Axes>"
            ],
            "image/png": "[encoded data removed]"
          },
          "metadata": {}
        },
        {
          "output_type": "stream",
          "name": "stdout",
          "text": [
            "Figure(640x480)\n"
          ]
        },
        {
          "output_type": "display_data",
          "data": {
            "text/plain": [
              "<Figure size 640x480 with 0 Axes>"
            ]
          },
          "metadata": {}
        }
      ]
    },
    {
      "cell_type": "code",
      "source": [
        "resposta_grafico_3 = gerar_grafico.invoke(\"\"\"Crie um gráfico de distribuição do veículo\"\"\")\n",
        "print(resposta_grafico_3)"
      ],
      "metadata": {
        "colab": {
          "base_uri": "https://localhost:8080/",
          "height": 476
        },
        "id": "5_T7UvPBHdD3",
        "outputId": "6af76600-ab21-4060-ebe9-55127a6295d4"
      },
      "execution_count": null,
      "outputs": [
        {
          "output_type": "display_data",
          "data": {
            "text/plain": [
              "<Figure size 800x400 with 1 Axes>"
            ],
            "image/png": "[encoded data removed]"
          },
          "metadata": {}
        },
        {
          "output_type": "stream",
          "name": "stdout",
          "text": [
            "Figure(640x480)\n"
          ]
        },
        {
          "output_type": "display_data",
          "data": {
            "text/plain": [
              "<Figure size 640x480 with 0 Axes>"
            ]
          },
          "metadata": {}
        }
      ]
    },
    {
      "cell_type": "code",
      "source": [
        "resposta_grafico_4 = gerar_grafico.invoke(\"\"\"Plote um boxplot do tempo de entrega para cada tipo de clima.\n",
        "                                             Adicione uma paleta de cores categórica.\"\"\")\n",
        "print(resposta_grafico_4)"
      ],
      "metadata": {
        "colab": {
          "base_uri": "https://localhost:8080/",
          "height": 567
        },
        "id": "v9BgtYjIH0-r",
        "outputId": "4662a2b6-651e-4334-e0a0-c2af82e5f57d"
      },
      "execution_count": null,
      "outputs": [
        {
          "output_type": "stream",
          "name": "stderr",
          "text": [
            "<string>:7: FutureWarning: \n",
            "\n",
            "Passing `palette` without assigning `hue` is deprecated and will be removed in v0.14.0. Assign the `x` variable to `hue` and set `legend=False` for the same effect.\n",
            "\n"
          ]
        },
        {
          "output_type": "display_data",
          "data": {
            "text/plain": [
              "<Figure size 800x400 with 1 Axes>"
            ],
            "image/png": "[encoded data removed]"
          },
          "metadata": {}
        },
        {
          "output_type": "stream",
          "name": "stdout",
          "text": [
            "Figure(640x480)\n"
          ]
        },
        {
          "output_type": "display_data",
          "data": {
            "text/plain": [
              "<Figure size 640x480 with 0 Axes>"
            ]
          },
          "metadata": {}
        }
      ]
    },
    {
      "cell_type": "markdown",
      "source": [
        "#**Aula 4: Orquestrando agentes capazes de usar múltiplas ferramentas**"
      ],
      "metadata": {
        "id": "BYZ4x_tZwj0T"
      }
    },
    {
      "cell_type": "markdown",
      "source": [
        "##**Configurando as ferramentas disponíveis**"
      ],
      "metadata": {
        "id": "OPXGP1KAwnwY"
      }
    },
    {
      "cell_type": "code",
      "source": [
        "from langchain.agents import Tool"
      ],
      "metadata": {
        "id": "uTmA1UNPJWkr"
      },
      "execution_count": null,
      "outputs": []
    },
    {
      "cell_type": "code",
      "source": [
        "ferramenta_informacoes_dataframe = Tool(\n",
        "    name=\"Informações DataFrame\",\n",
        "    func=informacoes_dataframe,\n",
        "    description=\"\"\"Utilize esta ferramenta sempre que o usuário solicitar informações gerais sobre o dataframe,\n",
        "    incluindo número de colunas e linhas, nomes das colunas e seus tipos de dados, contagem de dados nulos e\n",
        "    duplicados para dar um panorama geral sobre o arquivo.\"\"\", return_direct=True\n",
        ")\n",
        "\n",
        "ferramenta_resumo_estatistico = Tool(\n",
        "    name=\"Resumo Estatístico\",\n",
        "    func=resumo_estatistico,\n",
        "    description=\"\"\"Utilize esta ferramenta sempre que o usuário solicitar um resumo estatístico completo\n",
        "     e descritivo da base de dados, incluindo várias estatísticas (média, desvio padrão, mínimo, máximo etc.).\n",
        "     Não utilize esta ferramenta para calcular uma única métrica como 'qual é a média de X' ou\n",
        "     qual a correlação das variáveis'. Nesses casos, utilize a ferramenta_codigos_python.\"\"\", return_direct=True\n",
        ")\n",
        "\n",
        "ferramenta_gerar_grafico = Tool(\n",
        "    name=\"Gerar Gráfico\",\n",
        "    func=gerar_grafico,\n",
        "    description=\"\"\"Utilize esta ferramenta sempre que o usuário solicitar um gráfico a partir de um DataFrame\n",
        "     pandas (`df`) com base em uma instrução do usuário.  A instrução pode conter pedidos como: 'Crie um gráfico\n",
        "     da média de tempo de entrega por clima', 'Plote a distribuição do tempo de entrega'  ou 'Plote a relação\n",
        "     entre a classificação dos agentes e o tempo de entrega'. Palavras-chave comuns que indicam o uso desta\n",
        "     ferramenta incluem: 'crie um gráfico', 'plote', 'visualize', 'faça um gráfico de', 'mostre a distribuição',\n",
        "     'represente graficamente', entre outros.\"\"\",  return_direct=True\n",
        ")\n",
        "\n",
        "ferramenta_codigos_python = Tool(\n",
        "    name=\"Códigos Python\",\n",
        "    func=PythonAstREPLTool(locals={\"df\": df}),\n",
        "    description=\"\"\"Utilize esta ferramenta sempre que o usuário solicitar cálculos, consultas ou transformações\n",
        "     específicas usando Python diretamente sobre o DataFrame `df`.\n",
        "     Exemplos de uso incluem: \"Qual é a média da coluna X?\", \"Quais são os valores únicos da coluna Y?\",\n",
        "     \"Qual a correlação entre A e B?\". Evite utilizar esta ferramenta para solicitações mais amplas ou descritivas,\n",
        "     como informações gerais sobre o DataFrame, resumos estatísticos completos ou geração de gráficos — nesses casos,\n",
        "     use as ferramentas apropriadas.\"\"\"\n",
        ")\n"
      ],
      "metadata": {
        "id": "QYTg7zt7Jc4Z"
      },
      "execution_count": null,
      "outputs": []
    },
    {
      "cell_type": "markdown",
      "source": [
        "##**Orientando o agente com um prompt estratégico**"
      ],
      "metadata": {
        "id": "VdEnfmyAwpW8"
      }
    },
    {
      "cell_type": "code",
      "source": [
        "from langchain import hub\n",
        "prompt_react = hub.pull(\"hwchase17/react\")\n",
        "print(prompt_react.template)"
      ],
      "metadata": {
        "colab": {
          "base_uri": "https://localhost:8080/"
        },
        "id": "-JzdhiIaNp-F",
        "outputId": "a398e302-1f4a-4ecf-980d-339dbdbd4f22"
      },
      "execution_count": null,
      "outputs": [
        {
          "output_type": "stream",
          "name": "stdout",
          "text": [
            "Answer the following questions as best you can. You have access to the following tools:\n",
            "\n",
            "{tools}\n",
            "\n",
            "Use the following format:\n",
            "\n",
            "Question: the input question you must answer\n",
            "Thought: you should always think about what to do\n",
            "Action: the action to take, should be one of [{tool_names}]\n",
            "Action Input: the input to the action\n",
            "Observation: the result of the action\n",
            "... (this Thought/Action/Action Input/Observation can repeat N times)\n",
            "Thought: I now know the final answer\n",
            "Final Answer: the final answer to the original input question\n",
            "\n",
            "Begin!\n",
            "\n",
            "Question: {input}\n",
            "Thought:{agent_scratchpad}\n"
          ]
        },
        {
          "output_type": "stream",
          "name": "stderr",
          "text": [
            "/usr/local/lib/python3.11/dist-packages/langsmith/client.py:280: LangSmithMissingAPIKeyWarning: API key must be provided when using hosted LangSmith API\n",
            "  warnings.warn(\n"
          ]
        }
      ]
    },
    {
      "cell_type": "code",
      "source": [
        "df_head = df.head().to_markdown()\n",
        "\n",
        "prompt_react_pt = PromptTemplate(\n",
        "    input_variables=[\"input\", \"agent_scratchpad\", \"tools\", \"tool_names\"],\n",
        "    partial_variables={\"df_head\": df_head},\n",
        "    template = \"\"\"\n",
        "        Você é um assistente que sempre responde em português.\n",
        "\n",
        "        Você tem acesso a um dataframe pandas chamado `df`.\n",
        "        Aqui estão as primeiras linhas do DataFrame, obtidas com `df.head().to_markdown()`:\n",
        "\n",
        "        {df_head}\n",
        "\n",
        "        Responda às seguintes perguntas da melhor forma possível.\n",
        "\n",
        "        Para isso, você tem acesso às seguintes ferramentas:\n",
        "\n",
        "        {tools}\n",
        "\n",
        "        Use o seguinte formato:\n",
        "\n",
        "        Question: a pergunta de entrada que você deve responder\n",
        "        Thought: você deve sempre pensar no que fazer\n",
        "        Action: a ação a ser tomada, deve ser uma das [{tool_names}]\n",
        "        Action Input: a entrada para a ação\n",
        "        Observation: o resultado da ação\n",
        "        ... (este Thought/Action/Action Input/Observation pode se repetir N vezes)\n",
        "        Thought: Agora eu sei a resposta final\n",
        "        Final Answer: a resposta final para a pergunta de entrada original.\n",
        "\n",
        "        Comece!\n",
        "\n",
        "        Question: {input}\n",
        "        Thought: {agent_scratchpad}\"\"\"\n",
        ")"
      ],
      "metadata": {
        "id": "rwYY2kuBOgIb"
      },
      "execution_count": null,
      "outputs": []
    },
    {
      "cell_type": "markdown",
      "source": [
        "##**Criando e testando o agente**"
      ],
      "metadata": {
        "id": "xGAuW-hrws_M"
      }
    },
    {
      "cell_type": "code",
      "source": [
        "from langchain.agents import create_react_agent\n",
        "from langchain.agents import AgentExecutor"
      ],
      "metadata": {
        "id": "-hONaQTAUQXc"
      },
      "execution_count": null,
      "outputs": []
    },
    {
      "cell_type": "code",
      "source": [
        "tools = [ferramenta_informacoes_dataframe, ferramenta_resumo_estatistico,\n",
        "         ferramenta_gerar_grafico, ferramenta_codigos_python]\n",
        "\n",
        "agente = create_react_agent(llm=llm, tools=tools, prompt=prompt_react_pt)\n",
        "\n",
        "orquestrador = AgentExecutor(agent=agente, tools=tools, verbose=True, handle_parsing_errors=True)"
      ],
      "metadata": {
        "id": "sDikdGdvUx7M"
      },
      "execution_count": null,
      "outputs": []
    },
    {
      "cell_type": "code",
      "source": [
        "orquestrador.invoke({\"input\": \"Gostaria de um relatório com informações sobre o dataframe\"})"
      ],
      "metadata": {
        "colab": {
          "base_uri": "https://localhost:8080/"
        },
        "id": "XPcKCo4SVhwF",
        "outputId": "e4512f04-169b-4749-eac5-613224313ca0"
      },
      "execution_count": null,
      "outputs": [
        {
          "output_type": "stream",
          "name": "stdout",
          "text": [
            "\n",
            "\n",
            "\u001b[1m> Entering new AgentExecutor chain...\u001b[0m\n",
            "\u001b[32;1m\u001b[1;3mI need to provide a general report about the dataframe.\n",
            "\n",
            "Action: Informações DataFrame\n",
            "Action Input: df\u001b[0m\u001b[36;1m\u001b[1;3m## Relatório de informações gerais sobre o dataset\n",
            "\n",
            "**Dimensão do DataFrame:** O DataFrame tem uma dimensão de 43.739 linhas e 16 colunas.\n",
            "\n",
            "**Descrição das colunas:**\n",
            "\n",
            "* **ID_pedido**: uma coluna de tipo objeto que representa o identificador único de cada pedido.\n",
            "* **anos_experiencia_agente**: uma coluna de tipo inteiro que representa a experiência do agente em anos.\n",
            "* **classificacao_agente**: uma coluna de tipo float que representa a classificação do agente.\n",
            "* **latitude_loja** e **longitude_loja**: colunas de tipo float que representam a localização geográfica da loja.\n",
            "* **latitude_entrega** e **longitude_entrega**: colunas de tipo float que representam a localização geográfica da entrega.\n",
            "* **data_pedido**, **hora_pedido**, e **hora_retirada**: colunas de tipo objeto que representam a data e hora do pedido, hora do pedido e hora de retirada, respectivamente.\n",
            "* **clima**, **trafego**, e **veiculo**: colunas de tipo objeto que representam as condições climáticas, tráfego e veículo utilizados, respectivamente.\n",
            "* **area**: uma coluna de tipo objeto que representa a área de entrega.\n",
            "* **categoria_produto**: uma coluna de tipo objeto que representa a categoria do produto.\n",
            "* **tempo_entrega**: uma coluna de tipo inteiro que representa o tempo de entrega.\n",
            "\n",
            "**Colunas com dados nulos:**\n",
            "\n",
            "* **classificacao_agente**: 54 valores nulos.\n",
            "* **clima**: 91 valores nulos.\n",
            "* **trafego**: 91 valores nulos.\n",
            "\n",
            "**Colunas com strings 'nan':**\n",
            "\n",
            "* **hora_pedido**: 91 strings 'nan'.\n",
            "\n",
            "**Duplicatas:** Não há linhas duplicadas no DataFrame.\n",
            "\n",
            "**Análises possíveis:** Com esses dados, é possível realizar análises sobre a relação entre a experiência do agente e a classificação, a influência do clima e tráfego no tempo de entrega, a distribuição geográfica dos pedidos e entregas, e a relação entre a categoria do produto e o tempo de entrega.\n",
            "\n",
            "**Tratamentos possíveis:** É necessário tratar os valores nulos e strings 'nan' nas colunas **classificacao_agente**, **clima**, **trafego**, e **hora_pedido**. Além disso, pode ser útil transformar as colunas de data e hora em formatos mais adequados para análise.\u001b[0m\n",
            "\u001b[32;1m\u001b[1;3m\u001b[0m\n",
            "\n",
            "\u001b[1m> Finished chain.\u001b[0m\n"
          ]
        },
        {
          "output_type": "execute_result",
          "data": {
            "text/plain": [
              "{'input': 'Gostaria de um relatório com informações sobre o dataframe',\n",
              " 'output': \"## Relatório de informações gerais sobre o dataset\\n\\n**Dimensão do DataFrame:** O DataFrame tem uma dimensão de 43.739 linhas e 16 colunas.\\n\\n**Descrição das colunas:**\\n\\n* **ID_pedido**: uma coluna de tipo objeto que representa o identificador único de cada pedido.\\n* **anos_experiencia_agente**: uma coluna de tipo inteiro que representa a experiência do agente em anos.\\n* **classificacao_agente**: uma coluna de tipo float que representa a classificação do agente.\\n* **latitude_loja** e **longitude_loja**: colunas de tipo float que representam a localização geográfica da loja.\\n* **latitude_entrega** e **longitude_entrega**: colunas de tipo float que representam a localização geográfica da entrega.\\n* **data_pedido**, **hora_pedido**, e **hora_retirada**: colunas de tipo objeto que representam a data e hora do pedido, hora do pedido e hora de retirada, respectivamente.\\n* **clima**, **trafego**, e **veiculo**: colunas de tipo objeto que representam as condições climáticas, tráfego e veículo utilizados, respectivamente.\\n* **area**: uma coluna de tipo objeto que representa a área de entrega.\\n* **categoria_produto**: uma coluna de tipo objeto que representa a categoria do produto.\\n* **tempo_entrega**: uma coluna de tipo inteiro que representa o tempo de entrega.\\n\\n**Colunas com dados nulos:**\\n\\n* **classificacao_agente**: 54 valores nulos.\\n* **clima**: 91 valores nulos.\\n* **trafego**: 91 valores nulos.\\n\\n**Colunas com strings 'nan':**\\n\\n* **hora_pedido**: 91 strings 'nan'.\\n\\n**Duplicatas:** Não há linhas duplicadas no DataFrame.\\n\\n**Análises possíveis:** Com esses dados, é possível realizar análises sobre a relação entre a experiência do agente e a classificação, a influência do clima e tráfego no tempo de entrega, a distribuição geográfica dos pedidos e entregas, e a relação entre a categoria do produto e o tempo de entrega.\\n\\n**Tratamentos possíveis:** É necessário tratar os valores nulos e strings 'nan' nas colunas **classificacao_agente**, **clima**, **trafego**, e **hora_pedido**. Além disso, pode ser útil transformar as colunas de data e hora em formatos mais adequados para análise.\"}"
            ]
          },
          "metadata": {},
          "execution_count": 77
        }
      ]
    },
    {
      "cell_type": "code",
      "source": [
        "resposta = orquestrador.invoke({\"input\": \"Gostaria de um relatório com informações sobre o dataframe\"})\n",
        "display(Markdown(resposta[\"output\"]))"
      ],
      "metadata": {
        "colab": {
          "base_uri": "https://localhost:8080/",
          "height": 1000
        },
        "id": "y2H9UyuNV42B",
        "outputId": "6e803cbf-d71f-492b-f53c-b209f5f9c830"
      },
      "execution_count": null,
      "outputs": [
        {
          "output_type": "stream",
          "name": "stdout",
          "text": [
            "\n",
            "\n",
            "\u001b[1m> Entering new AgentExecutor chain...\u001b[0m\n",
            "\u001b[32;1m\u001b[1;3mI need to provide a general report about the dataframe.\n",
            "\n",
            "Action: Informações DataFrame\n",
            "Action Input: df\u001b[0m\u001b[36;1m\u001b[1;3m## Relatório de informações gerais sobre o dataset\n",
            "\n",
            "**Dimensão do DataFrame:** O DataFrame tem uma dimensão de 43.739 linhas e 16 colunas.\n",
            "\n",
            "**Descrição das colunas:**\n",
            "\n",
            "* **ID_pedido**: uma coluna de tipo objeto que representa o identificador único de cada pedido.\n",
            "* **anos_experiencia_agente**: uma coluna de tipo inteiro que representa a experiência do agente em anos.\n",
            "* **classificacao_agente**: uma coluna de tipo float que representa a classificação do agente.\n",
            "* **latitude_loja** e **longitude_loja**: colunas de tipo float que representam a localização geográfica da loja.\n",
            "* **latitude_entrega** e **longitude_entrega**: colunas de tipo float que representam a localização geográfica da entrega.\n",
            "* **data_pedido**, **hora_pedido**, e **hora_retirada**: colunas de tipo objeto que representam a data e hora do pedido, hora do pedido e hora de retirada, respectivamente.\n",
            "* **clima**, **trafego**, e **veiculo**: colunas de tipo objeto que representam as condições climáticas, tráfego e veículo utilizados, respectivamente.\n",
            "* **area**: uma coluna de tipo objeto que representa a área de entrega.\n",
            "* **categoria_produto**: uma coluna de tipo objeto que representa a categoria do produto.\n",
            "* **tempo_entrega**: uma coluna de tipo inteiro que representa o tempo de entrega.\n",
            "\n",
            "**Colunas com dados nulos:**\n",
            "\n",
            "* **classificacao_agente**: 54 valores nulos.\n",
            "* **clima**: 91 valores nulos.\n",
            "* **trafego**: 91 valores nulos.\n",
            "\n",
            "**Colunas com strings 'nan':**\n",
            "\n",
            "* **hora_pedido**: 91 strings 'nan'.\n",
            "\n",
            "**Duplicatas:** Não há linhas duplicadas no DataFrame.\n",
            "\n",
            "**Análises possíveis:** Com esses dados, é possível realizar análises sobre a relação entre a experiência do agente e a classificação, a influência do clima e tráfego no tempo de entrega, a distribuição geográfica dos pedidos e entregas, e a relação entre a categoria do produto e o tempo de entrega.\n",
            "\n",
            "**Tratamentos possíveis:** É necessário tratar os valores nulos e strings 'nan' nas colunas **classificacao_agente**, **clima**, **trafego**, e **hora_pedido**. Além disso, pode ser útil transformar as colunas de data e hora em formatos mais adequados para análise.\u001b[0m\n",
            "\u001b[32;1m\u001b[1;3m\u001b[0m\n",
            "\n",
            "\u001b[1m> Finished chain.\u001b[0m\n"
          ]
        },
        {
          "output_type": "display_data",
          "data": {
            "text/plain": [
              "<IPython.core.display.Markdown object>"
            ],
            "text/markdown": "## Relatório de informações gerais sobre o dataset\n\n**Dimensão do DataFrame:** O DataFrame tem uma dimensão de 43.739 linhas e 16 colunas.\n\n**Descrição das colunas:**\n\n* **ID_pedido**: uma coluna de tipo objeto que representa o identificador único de cada pedido.\n* **anos_experiencia_agente**: uma coluna de tipo inteiro que representa a experiência do agente em anos.\n* **classificacao_agente**: uma coluna de tipo float que representa a classificação do agente.\n* **latitude_loja** e **longitude_loja**: colunas de tipo float que representam a localização geográfica da loja.\n* **latitude_entrega** e **longitude_entrega**: colunas de tipo float que representam a localização geográfica da entrega.\n* **data_pedido**, **hora_pedido**, e **hora_retirada**: colunas de tipo objeto que representam a data e hora do pedido, hora do pedido e hora de retirada, respectivamente.\n* **clima**, **trafego**, e **veiculo**: colunas de tipo objeto que representam as condições climáticas, tráfego e veículo utilizados, respectivamente.\n* **area**: uma coluna de tipo objeto que representa a área de entrega.\n* **categoria_produto**: uma coluna de tipo objeto que representa a categoria do produto.\n* **tempo_entrega**: uma coluna de tipo inteiro que representa o tempo de entrega.\n\n**Colunas com dados nulos:**\n\n* **classificacao_agente**: 54 valores nulos.\n* **clima**: 91 valores nulos.\n* **trafego**: 91 valores nulos.\n\n**Colunas com strings 'nan':**\n\n* **hora_pedido**: 91 strings 'nan'.\n\n**Duplicatas:** Não há linhas duplicadas no DataFrame.\n\n**Análises possíveis:** Com esses dados, é possível realizar análises sobre a relação entre a experiência do agente e a classificação, a influência do clima e tráfego no tempo de entrega, a distribuição geográfica dos pedidos e entregas, e a relação entre a categoria do produto e o tempo de entrega.\n\n**Tratamentos possíveis:** É necessário tratar os valores nulos e strings 'nan' nas colunas **classificacao_agente**, **clima**, **trafego**, e **hora_pedido**. Além disso, pode ser útil transformar as colunas de data e hora em formatos mais adequados para análise."
          },
          "metadata": {}
        }
      ]
    },
    {
      "cell_type": "code",
      "source": [
        "resposta_2 = orquestrador.invoke({\"input\": \"Quero saber as estatísticas descritivas dos dados\"})\n",
        "display(Markdown(resposta_2[\"output\"]))"
      ],
      "metadata": {
        "colab": {
          "base_uri": "https://localhost:8080/",
          "height": 1000
        },
        "id": "rsqwVBcQWDWJ",
        "outputId": "99502855-80fc-4100-da9c-c8c3eb11805a"
      },
      "execution_count": null,
      "outputs": [
        {
          "output_type": "stream",
          "name": "stdout",
          "text": [
            "\n",
            "\n",
            "\u001b[1m> Entering new AgentExecutor chain...\u001b[0m\n",
            "\u001b[32;1m\u001b[1;3mI need to provide a statistical summary of the data.\n",
            "\n",
            "Action: Resumo Estatístico\n",
            "Action Input: df.describe()\u001b[0m\u001b[33;1m\u001b[1;3m## Relatório de estatísticas descritivas\n",
            "\n",
            "Este relatório apresenta uma visão geral das estatísticas descritivas da base de dados, destacando os principais pontos dos resultados.\n",
            "\n",
            "**Visão geral das estatísticas**\n",
            "\n",
            "A base de dados apresenta 7 colunas numéricas, com um total de 43.739 registros. As estatísticas descritivas revelam que as variáveis apresentam uma distribuição razoavelmente normal, com médias próximas à mediana e desvios padrão moderados.\n",
            "\n",
            "**Análise das colunas**\n",
            "\n",
            "**Anos de experiência do agente**: A média de anos de experiência dos agentes é de 12,14 anos, com um desvio padrão de 3,11 anos. A distribuição é razoavelmente normal, com 25% dos agentes tendo menos de 9 anos de experiência e 75% tendo mais de 15 anos.\n",
            "\n",
            "**Classificação do agente**: A média de classificação dos agentes é de 4,63, com um desvio padrão de 0,33. A distribuição é muito concentrada em torno da média, sugerindo que a maioria dos agentes tem uma classificação próxima à média.\n",
            "\n",
            "**Latitude e longitude da loja**: As médias de latitude e longitude da loja são de 17,21° e 70,66°, respectivamente. Os desvios padrão são moderados, sugerindo que as lojas estão distribuídas em uma área razoavelmente ampla. É interessante notar que os valores mínimos e máximos são muito extremos, sugerindo a presença de possíveis outliers.\n",
            "\n",
            "**Latitude e longitude da entrega**: As médias de latitude e longitude da entrega são de 17,46° e 70,82°, respectivamente. Os desvios padrão são moderados, sugerindo que as entregas estão distribuídas em uma área razoavelmente ampla. É interessante notar que os valores mínimos e máximos são muito extremos, sugerindo a presença de possíveis outliers.\n",
            "\n",
            "**Tempo de entrega**: A média do tempo de entrega é de 124,91 minutos, com um desvio padrão de 51,92 minutos. A distribuição é razoavelmente normal, com 25% dos tempos de entrega sendo menores que 90 minutos e 75% sendo maiores que 160 minutos.\n",
            "\n",
            "**Identificação de possíveis outliers**\n",
            "\n",
            "Os valores mínimos e máximos extremos nas colunas de latitude e longitude da loja e da entrega sugerem a presença de possíveis outliers. É recomendável verificar esses registros para garantir que sejam válidos e não estejam influenciando indevidamente as estatísticas.\n",
            "\n",
            "**Recomendações de próximos passos**\n",
            "\n",
            "Com base nos padrões identificados, é recomendável:\n",
            "\n",
            "* Verificar a distribuição das variáveis em mais detalhes, utilizando gráficos e histogramas, para identificar possíveis padrões ou outliers.\n",
            "* Realizar análises de correlação entre as variáveis para identificar possíveis relações entre elas.\n",
            "* Investigar a razão pela qual os valores mínimos e máximos nas colunas de latitude e longitude são tão extremos.\n",
            "* Considerar a criação de modelos de machine learning para prever o tempo de entrega com base nas variáveis disponíveis.\u001b[0m\n",
            "\u001b[32;1m\u001b[1;3m\u001b[0m\n",
            "\n",
            "\u001b[1m> Finished chain.\u001b[0m\n"
          ]
        },
        {
          "output_type": "display_data",
          "data": {
            "text/plain": [
              "<IPython.core.display.Markdown object>"
            ],
            "text/markdown": "## Relatório de estatísticas descritivas\n\nEste relatório apresenta uma visão geral das estatísticas descritivas da base de dados, destacando os principais pontos dos resultados.\n\n**Visão geral das estatísticas**\n\nA base de dados apresenta 7 colunas numéricas, com um total de 43.739 registros. As estatísticas descritivas revelam que as variáveis apresentam uma distribuição razoavelmente normal, com médias próximas à mediana e desvios padrão moderados.\n\n**Análise das colunas**\n\n**Anos de experiência do agente**: A média de anos de experiência dos agentes é de 12,14 anos, com um desvio padrão de 3,11 anos. A distribuição é razoavelmente normal, com 25% dos agentes tendo menos de 9 anos de experiência e 75% tendo mais de 15 anos.\n\n**Classificação do agente**: A média de classificação dos agentes é de 4,63, com um desvio padrão de 0,33. A distribuição é muito concentrada em torno da média, sugerindo que a maioria dos agentes tem uma classificação próxima à média.\n\n**Latitude e longitude da loja**: As médias de latitude e longitude da loja são de 17,21° e 70,66°, respectivamente. Os desvios padrão são moderados, sugerindo que as lojas estão distribuídas em uma área razoavelmente ampla. É interessante notar que os valores mínimos e máximos são muito extremos, sugerindo a presença de possíveis outliers.\n\n**Latitude e longitude da entrega**: As médias de latitude e longitude da entrega são de 17,46° e 70,82°, respectivamente. Os desvios padrão são moderados, sugerindo que as entregas estão distribuídas em uma área razoavelmente ampla. É interessante notar que os valores mínimos e máximos são muito extremos, sugerindo a presença de possíveis outliers.\n\n**Tempo de entrega**: A média do tempo de entrega é de 124,91 minutos, com um desvio padrão de 51,92 minutos. A distribuição é razoavelmente normal, com 25% dos tempos de entrega sendo menores que 90 minutos e 75% sendo maiores que 160 minutos.\n\n**Identificação de possíveis outliers**\n\nOs valores mínimos e máximos extremos nas colunas de latitude e longitude da loja e da entrega sugerem a presença de possíveis outliers. É recomendável verificar esses registros para garantir que sejam válidos e não estejam influenciando indevidamente as estatísticas.\n\n**Recomendações de próximos passos**\n\nCom base nos padrões identificados, é recomendável:\n\n* Verificar a distribuição das variáveis em mais detalhes, utilizando gráficos e histogramas, para identificar possíveis padrões ou outliers.\n* Realizar análises de correlação entre as variáveis para identificar possíveis relações entre elas.\n* Investigar a razão pela qual os valores mínimos e máximos nas colunas de latitude e longitude são tão extremos.\n* Considerar a criação de modelos de machine learning para prever o tempo de entrega com base nas variáveis disponíveis."
          },
          "metadata": {}
        }
      ]
    },
    {
      "cell_type": "code",
      "source": [
        "orquestrador.invoke({\"input\": \"Crie um gráfico da média do tempo de entrega por clima. Ordene do maior para o menor valor.\"})"
      ],
      "metadata": {
        "colab": {
          "base_uri": "https://localhost:8080/",
          "height": 692
        },
        "id": "kkwGdlX6WSgE",
        "outputId": "6c830de3-6619-450a-85cb-29cd8167c1cc"
      },
      "execution_count": null,
      "outputs": [
        {
          "output_type": "stream",
          "name": "stdout",
          "text": [
            "\n",
            "\n",
            "\u001b[1m> Entering new AgentExecutor chain...\u001b[0m\n",
            "\u001b[32;1m\u001b[1;3mThought: Eu preciso criar um gráfico que mostre a média do tempo de entrega por clima, ordenado do maior para o menor valor.\n",
            "\n",
            "Action: Gerar Gráfico\n",
            "Action Input: df.groupby('clima')['tempo_entrega'].mean().sort_values(ascending=False).plot(kind='bar')\u001b[0m"
          ]
        },
        {
          "output_type": "display_data",
          "data": {
            "text/plain": [
              "<Figure size 800x400 with 1 Axes>"
            ],
            "image/png": "[encoded data removed]"
          },
          "metadata": {}
        },
        {
          "output_type": "stream",
          "name": "stdout",
          "text": [
            "\u001b[38;5;200m\u001b[1;3mFigure(640x480)\u001b[0m\n",
            "\u001b[32;1m\u001b[1;3m\u001b[0m\n",
            "\n",
            "\u001b[1m> Finished chain.\u001b[0m\n"
          ]
        },
        {
          "output_type": "execute_result",
          "data": {
            "text/plain": [
              "{'input': 'Crie um gráfico da média do tempo de entrega por clima. Ordene do maior para o menor valor.',\n",
              " 'output': <Figure size 640x480 with 0 Axes>}"
            ]
          },
          "metadata": {},
          "execution_count": 80
        },
        {
          "output_type": "display_data",
          "data": {
            "text/plain": [
              "<Figure size 640x480 with 0 Axes>"
            ]
          },
          "metadata": {}
        }
      ]
    },
    {
      "cell_type": "code",
      "source": [
        "orquestrador.invoke({\"input\": \"Qual é a média do tempo de entrega?\"})"
      ],
      "metadata": {
        "colab": {
          "base_uri": "https://localhost:8080/"
        },
        "id": "fNyUJjmxWm4w",
        "outputId": "4d91dc39-e005-49e3-ae97-045f2ccfd0cd"
      },
      "execution_count": null,
      "outputs": [
        {
          "output_type": "stream",
          "name": "stdout",
          "text": [
            "\n",
            "\n",
            "\u001b[1m> Entering new AgentExecutor chain...\u001b[0m\n",
            "\u001b[32;1m\u001b[1;3mThought: Eu preciso calcular a média da coluna \"tempo_entrega\" do DataFrame.\n",
            "\n",
            "Action: Códigos Python\n",
            "Action Input: `df['tempo_entrega'].mean()`\u001b[0m\u001b[36;1m\u001b[1;3m124.90564484784746\u001b[0m\u001b[32;1m\u001b[1;3mFinal Answer: A média do tempo de entrega é de 124.91 minutos.\u001b[0m\n",
            "\n",
            "\u001b[1m> Finished chain.\u001b[0m\n"
          ]
        },
        {
          "output_type": "execute_result",
          "data": {
            "text/plain": [
              "{'input': 'Qual é a média do tempo de entrega?',\n",
              " 'output': 'A média do tempo de entrega é de 124.91 minutos.'}"
            ]
          },
          "metadata": {},
          "execution_count": 81
        }
      ]
    }
  ]
}